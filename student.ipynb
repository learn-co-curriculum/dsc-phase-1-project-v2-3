{
 "cells": [
  {
   "cell_type": "markdown",
   "metadata": {},
   "source": [
    "## Final Project Submission\n",
    "\n",
    "Please fill out:\n",
    "* Student name: Matthew Gittings \n",
    "* Student pace: full time\n",
    "* Scheduled project review date/time: 03/11/2022\n",
    "* Instructor name: Praveed Gowtham\n",
    "* Blog post URL:\n"
   ]
  },
  {
   "cell_type": "markdown",
   "metadata": {},
   "source": [
    "Installing the necessary packages to perform the data manipulation.\n",
    ".\n",
    ".\n",
    ".\n"
   ]
  },
  {
   "cell_type": "code",
   "execution_count": 57,
   "metadata": {},
   "outputs": [
    {
     "name": "stdout",
     "output_type": "stream",
     "text": [
      "Requirement already satisfied: seaborn in /Users/matthewgittings/opt/anaconda3/envs/learn-env/lib/python3.8/site-packages (0.11.0)\n",
      "Requirement already satisfied: matplotlib>=2.2 in /Users/matthewgittings/opt/anaconda3/envs/learn-env/lib/python3.8/site-packages (from seaborn) (3.3.1)\n",
      "Requirement already satisfied: numpy>=1.15 in /Users/matthewgittings/opt/anaconda3/envs/learn-env/lib/python3.8/site-packages (from seaborn) (1.18.5)\n",
      "Requirement already satisfied: pandas>=0.23 in /Users/matthewgittings/opt/anaconda3/envs/learn-env/lib/python3.8/site-packages (from seaborn) (1.1.3)\n",
      "Requirement already satisfied: scipy>=1.0 in /Users/matthewgittings/opt/anaconda3/envs/learn-env/lib/python3.8/site-packages (from seaborn) (1.5.2)\n",
      "Requirement already satisfied: python-dateutil>=2.1 in /Users/matthewgittings/opt/anaconda3/envs/learn-env/lib/python3.8/site-packages (from matplotlib>=2.2->seaborn) (2.8.1)\n",
      "Requirement already satisfied: certifi>=2020.06.20 in /Users/matthewgittings/opt/anaconda3/envs/learn-env/lib/python3.8/site-packages (from matplotlib>=2.2->seaborn) (2020.6.20)\n",
      "Requirement already satisfied: pyparsing!=2.0.4,!=2.1.2,!=2.1.6,>=2.0.3 in /Users/matthewgittings/opt/anaconda3/envs/learn-env/lib/python3.8/site-packages (from matplotlib>=2.2->seaborn) (2.4.7)\n",
      "Requirement already satisfied: pillow>=6.2.0 in /Users/matthewgittings/opt/anaconda3/envs/learn-env/lib/python3.8/site-packages (from matplotlib>=2.2->seaborn) (7.2.0)\n",
      "Requirement already satisfied: kiwisolver>=1.0.1 in /Users/matthewgittings/opt/anaconda3/envs/learn-env/lib/python3.8/site-packages (from matplotlib>=2.2->seaborn) (1.2.0)\n",
      "Requirement already satisfied: cycler>=0.10 in /Users/matthewgittings/opt/anaconda3/envs/learn-env/lib/python3.8/site-packages (from matplotlib>=2.2->seaborn) (0.10.0)\n",
      "Requirement already satisfied: pytz>=2017.2 in /Users/matthewgittings/opt/anaconda3/envs/learn-env/lib/python3.8/site-packages (from pandas>=0.23->seaborn) (2020.1)\n",
      "Requirement already satisfied: six>=1.5 in /Users/matthewgittings/opt/anaconda3/envs/learn-env/lib/python3.8/site-packages (from python-dateutil>=2.1->matplotlib>=2.2->seaborn) (1.15.0)\n",
      "Note: you may need to restart the kernel to use updated packages.\n"
     ]
    }
   ],
   "source": [
    "pip install seaborn"
   ]
  },
  {
   "cell_type": "code",
   "execution_count": 58,
   "metadata": {},
   "outputs": [],
   "source": [
    "\n",
    "import pandas as pd\n",
    "import csv\n",
    "import numpy \n",
    "import matplotlib.pyplot as plt\n",
    "import seaborn as sns\n",
    "from matplotlib import pyplot as plt\n"
   ]
  },
  {
   "cell_type": "markdown",
   "metadata": {},
   "source": [
    "Importing in the data sets that will be used throughout.\n",
    ".\n",
    ".\n",
    ".\n"
   ]
  },
  {
   "cell_type": "code",
   "execution_count": 59,
   "metadata": {},
   "outputs": [],
   "source": [
    "movie_gross= pd.read_csv('zippedData/bom.movie_gross.csv')\n",
    "movie_budgets = pd.read_csv('zippedData/tn.movie_budgets.csv')\n",
    "title_basics = pd.read_csv('zippedData/imdb.title.basics.csv')\n",
    "rating = pd.read_csv('zippedData/tmdb.movies.csv')"
   ]
  },
  {
   "cell_type": "markdown",
   "metadata": {},
   "source": [
    "Analyzing First data set -- Movie Gross.\n",
    ".\n",
    ".\n",
    ".\n"
   ]
  },
  {
   "cell_type": "code",
   "execution_count": 60,
   "metadata": {},
   "outputs": [
    {
     "data": {
      "text/plain": [
       "(3387, 5)"
      ]
     },
     "execution_count": 60,
     "metadata": {},
     "output_type": "execute_result"
    }
   ],
   "source": [
    "movie_gross.shape"
   ]
  },
  {
   "cell_type": "code",
   "execution_count": 61,
   "metadata": {},
   "outputs": [
    {
     "name": "stdout",
     "output_type": "stream",
     "text": [
      "<class 'pandas.core.frame.DataFrame'>\n",
      "RangeIndex: 3387 entries, 0 to 3386\n",
      "Data columns (total 5 columns):\n",
      " #   Column          Non-Null Count  Dtype  \n",
      "---  ------          --------------  -----  \n",
      " 0   title           3387 non-null   object \n",
      " 1   studio          3382 non-null   object \n",
      " 2   domestic_gross  3359 non-null   float64\n",
      " 3   foreign_gross   2037 non-null   object \n",
      " 4   year            3387 non-null   int64  \n",
      "dtypes: float64(1), int64(1), object(3)\n",
      "memory usage: 132.4+ KB\n"
     ]
    }
   ],
   "source": [
    "movie_gross.info()"
   ]
  },
  {
   "cell_type": "code",
   "execution_count": 62,
   "metadata": {
    "scrolled": false
   },
   "outputs": [
    {
     "data": {
      "text/html": [
       "<div>\n",
       "<style scoped>\n",
       "    .dataframe tbody tr th:only-of-type {\n",
       "        vertical-align: middle;\n",
       "    }\n",
       "\n",
       "    .dataframe tbody tr th {\n",
       "        vertical-align: top;\n",
       "    }\n",
       "\n",
       "    .dataframe thead th {\n",
       "        text-align: right;\n",
       "    }\n",
       "</style>\n",
       "<table border=\"1\" class=\"dataframe\">\n",
       "  <thead>\n",
       "    <tr style=\"text-align: right;\">\n",
       "      <th></th>\n",
       "      <th>title</th>\n",
       "      <th>studio</th>\n",
       "      <th>domestic_gross</th>\n",
       "      <th>foreign_gross</th>\n",
       "      <th>year</th>\n",
       "    </tr>\n",
       "  </thead>\n",
       "  <tbody>\n",
       "    <tr>\n",
       "      <th>0</th>\n",
       "      <td>Toy Story 3</td>\n",
       "      <td>BV</td>\n",
       "      <td>415000000.0</td>\n",
       "      <td>652000000</td>\n",
       "      <td>2010</td>\n",
       "    </tr>\n",
       "    <tr>\n",
       "      <th>1</th>\n",
       "      <td>Alice in Wonderland (2010)</td>\n",
       "      <td>BV</td>\n",
       "      <td>334200000.0</td>\n",
       "      <td>691300000</td>\n",
       "      <td>2010</td>\n",
       "    </tr>\n",
       "    <tr>\n",
       "      <th>2</th>\n",
       "      <td>Harry Potter and the Deathly Hallows Part 1</td>\n",
       "      <td>WB</td>\n",
       "      <td>296000000.0</td>\n",
       "      <td>664300000</td>\n",
       "      <td>2010</td>\n",
       "    </tr>\n",
       "    <tr>\n",
       "      <th>3</th>\n",
       "      <td>Inception</td>\n",
       "      <td>WB</td>\n",
       "      <td>292600000.0</td>\n",
       "      <td>535700000</td>\n",
       "      <td>2010</td>\n",
       "    </tr>\n",
       "    <tr>\n",
       "      <th>4</th>\n",
       "      <td>Shrek Forever After</td>\n",
       "      <td>P/DW</td>\n",
       "      <td>238700000.0</td>\n",
       "      <td>513900000</td>\n",
       "      <td>2010</td>\n",
       "    </tr>\n",
       "  </tbody>\n",
       "</table>\n",
       "</div>"
      ],
      "text/plain": [
       "                                         title studio  domestic_gross  \\\n",
       "0                                  Toy Story 3     BV     415000000.0   \n",
       "1                   Alice in Wonderland (2010)     BV     334200000.0   \n",
       "2  Harry Potter and the Deathly Hallows Part 1     WB     296000000.0   \n",
       "3                                    Inception     WB     292600000.0   \n",
       "4                          Shrek Forever After   P/DW     238700000.0   \n",
       "\n",
       "  foreign_gross  year  \n",
       "0     652000000  2010  \n",
       "1     691300000  2010  \n",
       "2     664300000  2010  \n",
       "3     535700000  2010  \n",
       "4     513900000  2010  "
      ]
     },
     "execution_count": 62,
     "metadata": {},
     "output_type": "execute_result"
    }
   ],
   "source": [
    "movie_gross.head()"
   ]
  },
  {
   "cell_type": "markdown",
   "metadata": {},
   "source": [
    "Cleaning data through deleteing cells from the movie_gross file which do not have value.\n",
    ".\n",
    ".\n",
    ".\n"
   ]
  },
  {
   "cell_type": "code",
   "execution_count": 63,
   "metadata": {},
   "outputs": [],
   "source": [
    "movie_gross.dropna(inplace=True)"
   ]
  },
  {
   "cell_type": "markdown",
   "metadata": {},
   "source": [
    "Changing data to be able to combine foreign and domestic gross.\n",
    ".\n",
    ".\n",
    ".\n",
    "\n"
   ]
  },
  {
   "cell_type": "code",
   "execution_count": 64,
   "metadata": {},
   "outputs": [],
   "source": [
    "movie_gross['foreign_gross'] = movie_gross['foreign_gross'].str.replace(',','')"
   ]
  },
  {
   "cell_type": "code",
   "execution_count": 65,
   "metadata": {},
   "outputs": [],
   "source": [
    "movie_gross['foreign_gross'] = movie_gross['foreign_gross'].astype(float)"
   ]
  },
  {
   "cell_type": "code",
   "execution_count": 66,
   "metadata": {},
   "outputs": [],
   "source": [
    "total_gross = movie_gross['foreign_gross'] + movie_gross['domestic_gross']"
   ]
  },
  {
   "cell_type": "markdown",
   "metadata": {},
   "source": [
    "Adding new column to Movie Gross file to be able to use this data.\n",
    ".\n",
    ".\n",
    ".\n",
    "\n"
   ]
  },
  {
   "cell_type": "code",
   "execution_count": 67,
   "metadata": {},
   "outputs": [],
   "source": [
    "movie_gross.insert(4, \"total_gross\",total_gross, True)"
   ]
  },
  {
   "cell_type": "code",
   "execution_count": 68,
   "metadata": {},
   "outputs": [
    {
     "data": {
      "text/html": [
       "<div>\n",
       "<style scoped>\n",
       "    .dataframe tbody tr th:only-of-type {\n",
       "        vertical-align: middle;\n",
       "    }\n",
       "\n",
       "    .dataframe tbody tr th {\n",
       "        vertical-align: top;\n",
       "    }\n",
       "\n",
       "    .dataframe thead th {\n",
       "        text-align: right;\n",
       "    }\n",
       "</style>\n",
       "<table border=\"1\" class=\"dataframe\">\n",
       "  <thead>\n",
       "    <tr style=\"text-align: right;\">\n",
       "      <th></th>\n",
       "      <th>title</th>\n",
       "      <th>studio</th>\n",
       "      <th>domestic_gross</th>\n",
       "      <th>foreign_gross</th>\n",
       "      <th>total_gross</th>\n",
       "      <th>year</th>\n",
       "    </tr>\n",
       "  </thead>\n",
       "  <tbody>\n",
       "    <tr>\n",
       "      <th>727</th>\n",
       "      <td>Marvel's The Avengers</td>\n",
       "      <td>BV</td>\n",
       "      <td>623400000.0</td>\n",
       "      <td>895500000.0</td>\n",
       "      <td>1.518900e+09</td>\n",
       "      <td>2012</td>\n",
       "    </tr>\n",
       "    <tr>\n",
       "      <th>1875</th>\n",
       "      <td>Avengers: Age of Ultron</td>\n",
       "      <td>BV</td>\n",
       "      <td>459000000.0</td>\n",
       "      <td>946400000.0</td>\n",
       "      <td>1.405400e+09</td>\n",
       "      <td>2015</td>\n",
       "    </tr>\n",
       "    <tr>\n",
       "      <th>3080</th>\n",
       "      <td>Black Panther</td>\n",
       "      <td>BV</td>\n",
       "      <td>700100000.0</td>\n",
       "      <td>646900000.0</td>\n",
       "      <td>1.347000e+09</td>\n",
       "      <td>2018</td>\n",
       "    </tr>\n",
       "    <tr>\n",
       "      <th>328</th>\n",
       "      <td>Harry Potter and the Deathly Hallows Part 2</td>\n",
       "      <td>WB</td>\n",
       "      <td>381000000.0</td>\n",
       "      <td>960500000.0</td>\n",
       "      <td>1.341500e+09</td>\n",
       "      <td>2011</td>\n",
       "    </tr>\n",
       "    <tr>\n",
       "      <th>2758</th>\n",
       "      <td>Star Wars: The Last Jedi</td>\n",
       "      <td>BV</td>\n",
       "      <td>620200000.0</td>\n",
       "      <td>712400000.0</td>\n",
       "      <td>1.332600e+09</td>\n",
       "      <td>2017</td>\n",
       "    </tr>\n",
       "    <tr>\n",
       "      <th>...</th>\n",
       "      <td>...</td>\n",
       "      <td>...</td>\n",
       "      <td>...</td>\n",
       "      <td>...</td>\n",
       "      <td>...</td>\n",
       "      <td>...</td>\n",
       "    </tr>\n",
       "    <tr>\n",
       "      <th>711</th>\n",
       "      <td>I'm Glad My Mother is Alive</td>\n",
       "      <td>Strand</td>\n",
       "      <td>8700.0</td>\n",
       "      <td>13200.0</td>\n",
       "      <td>2.190000e+04</td>\n",
       "      <td>2011</td>\n",
       "    </tr>\n",
       "    <tr>\n",
       "      <th>322</th>\n",
       "      <td>The Thorn in the Heart</td>\n",
       "      <td>Osci.</td>\n",
       "      <td>7400.0</td>\n",
       "      <td>10500.0</td>\n",
       "      <td>1.790000e+04</td>\n",
       "      <td>2010</td>\n",
       "    </tr>\n",
       "    <tr>\n",
       "      <th>1110</th>\n",
       "      <td>Cirkus Columbia</td>\n",
       "      <td>Strand</td>\n",
       "      <td>3500.0</td>\n",
       "      <td>9500.0</td>\n",
       "      <td>1.300000e+04</td>\n",
       "      <td>2012</td>\n",
       "    </tr>\n",
       "    <tr>\n",
       "      <th>715</th>\n",
       "      <td>Aurora</td>\n",
       "      <td>CGld</td>\n",
       "      <td>5700.0</td>\n",
       "      <td>5100.0</td>\n",
       "      <td>1.080000e+04</td>\n",
       "      <td>2011</td>\n",
       "    </tr>\n",
       "    <tr>\n",
       "      <th>721</th>\n",
       "      <td>To Die Like a Man</td>\n",
       "      <td>Strand</td>\n",
       "      <td>4000.0</td>\n",
       "      <td>900.0</td>\n",
       "      <td>4.900000e+03</td>\n",
       "      <td>2011</td>\n",
       "    </tr>\n",
       "  </tbody>\n",
       "</table>\n",
       "<p>2007 rows × 6 columns</p>\n",
       "</div>"
      ],
      "text/plain": [
       "                                            title  studio  domestic_gross  \\\n",
       "727                         Marvel's The Avengers      BV     623400000.0   \n",
       "1875                      Avengers: Age of Ultron      BV     459000000.0   \n",
       "3080                                Black Panther      BV     700100000.0   \n",
       "328   Harry Potter and the Deathly Hallows Part 2      WB     381000000.0   \n",
       "2758                     Star Wars: The Last Jedi      BV     620200000.0   \n",
       "...                                           ...     ...             ...   \n",
       "711                   I'm Glad My Mother is Alive  Strand          8700.0   \n",
       "322                        The Thorn in the Heart   Osci.          7400.0   \n",
       "1110                              Cirkus Columbia  Strand          3500.0   \n",
       "715                                        Aurora    CGld          5700.0   \n",
       "721                             To Die Like a Man  Strand          4000.0   \n",
       "\n",
       "      foreign_gross   total_gross  year  \n",
       "727     895500000.0  1.518900e+09  2012  \n",
       "1875    946400000.0  1.405400e+09  2015  \n",
       "3080    646900000.0  1.347000e+09  2018  \n",
       "328     960500000.0  1.341500e+09  2011  \n",
       "2758    712400000.0  1.332600e+09  2017  \n",
       "...             ...           ...   ...  \n",
       "711         13200.0  2.190000e+04  2011  \n",
       "322         10500.0  1.790000e+04  2010  \n",
       "1110         9500.0  1.300000e+04  2012  \n",
       "715          5100.0  1.080000e+04  2011  \n",
       "721           900.0  4.900000e+03  2011  \n",
       "\n",
       "[2007 rows x 6 columns]"
      ]
     },
     "execution_count": 68,
     "metadata": {},
     "output_type": "execute_result"
    }
   ],
   "source": [
    "movie_gross.sort_values(by='total_gross',ascending=False)"
   ]
  },
  {
   "cell_type": "markdown",
   "metadata": {},
   "source": [
    "Analyzing next data set -- Movie Budgets.\n"
   ]
  },
  {
   "cell_type": "code",
   "execution_count": 69,
   "metadata": {},
   "outputs": [
    {
     "data": {
      "text/plain": [
       "(5782, 6)"
      ]
     },
     "execution_count": 69,
     "metadata": {},
     "output_type": "execute_result"
    }
   ],
   "source": [
    "movie_budgets.shape"
   ]
  },
  {
   "cell_type": "code",
   "execution_count": 70,
   "metadata": {
    "scrolled": true
   },
   "outputs": [
    {
     "data": {
      "text/html": [
       "<div>\n",
       "<style scoped>\n",
       "    .dataframe tbody tr th:only-of-type {\n",
       "        vertical-align: middle;\n",
       "    }\n",
       "\n",
       "    .dataframe tbody tr th {\n",
       "        vertical-align: top;\n",
       "    }\n",
       "\n",
       "    .dataframe thead th {\n",
       "        text-align: right;\n",
       "    }\n",
       "</style>\n",
       "<table border=\"1\" class=\"dataframe\">\n",
       "  <thead>\n",
       "    <tr style=\"text-align: right;\">\n",
       "      <th></th>\n",
       "      <th>id</th>\n",
       "      <th>release_date</th>\n",
       "      <th>movie</th>\n",
       "      <th>production_budget</th>\n",
       "      <th>domestic_gross</th>\n",
       "      <th>worldwide_gross</th>\n",
       "    </tr>\n",
       "  </thead>\n",
       "  <tbody>\n",
       "    <tr>\n",
       "      <th>0</th>\n",
       "      <td>1</td>\n",
       "      <td>Dec 18, 2009</td>\n",
       "      <td>Avatar</td>\n",
       "      <td>$425,000,000</td>\n",
       "      <td>$760,507,625</td>\n",
       "      <td>$2,776,345,279</td>\n",
       "    </tr>\n",
       "    <tr>\n",
       "      <th>1</th>\n",
       "      <td>2</td>\n",
       "      <td>May 20, 2011</td>\n",
       "      <td>Pirates of the Caribbean: On Stranger Tides</td>\n",
       "      <td>$410,600,000</td>\n",
       "      <td>$241,063,875</td>\n",
       "      <td>$1,045,663,875</td>\n",
       "    </tr>\n",
       "    <tr>\n",
       "      <th>2</th>\n",
       "      <td>3</td>\n",
       "      <td>Jun 7, 2019</td>\n",
       "      <td>Dark Phoenix</td>\n",
       "      <td>$350,000,000</td>\n",
       "      <td>$42,762,350</td>\n",
       "      <td>$149,762,350</td>\n",
       "    </tr>\n",
       "    <tr>\n",
       "      <th>3</th>\n",
       "      <td>4</td>\n",
       "      <td>May 1, 2015</td>\n",
       "      <td>Avengers: Age of Ultron</td>\n",
       "      <td>$330,600,000</td>\n",
       "      <td>$459,005,868</td>\n",
       "      <td>$1,403,013,963</td>\n",
       "    </tr>\n",
       "    <tr>\n",
       "      <th>4</th>\n",
       "      <td>5</td>\n",
       "      <td>Dec 15, 2017</td>\n",
       "      <td>Star Wars Ep. VIII: The Last Jedi</td>\n",
       "      <td>$317,000,000</td>\n",
       "      <td>$620,181,382</td>\n",
       "      <td>$1,316,721,747</td>\n",
       "    </tr>\n",
       "  </tbody>\n",
       "</table>\n",
       "</div>"
      ],
      "text/plain": [
       "   id  release_date                                        movie  \\\n",
       "0   1  Dec 18, 2009                                       Avatar   \n",
       "1   2  May 20, 2011  Pirates of the Caribbean: On Stranger Tides   \n",
       "2   3   Jun 7, 2019                                 Dark Phoenix   \n",
       "3   4   May 1, 2015                      Avengers: Age of Ultron   \n",
       "4   5  Dec 15, 2017            Star Wars Ep. VIII: The Last Jedi   \n",
       "\n",
       "  production_budget domestic_gross worldwide_gross  \n",
       "0      $425,000,000   $760,507,625  $2,776,345,279  \n",
       "1      $410,600,000   $241,063,875  $1,045,663,875  \n",
       "2      $350,000,000    $42,762,350    $149,762,350  \n",
       "3      $330,600,000   $459,005,868  $1,403,013,963  \n",
       "4      $317,000,000   $620,181,382  $1,316,721,747  "
      ]
     },
     "execution_count": 70,
     "metadata": {},
     "output_type": "execute_result"
    }
   ],
   "source": [
    "movie_budgets.head()"
   ]
  },
  {
   "cell_type": "markdown",
   "metadata": {},
   "source": [
    "Transforming data to match Movie Gross columns\n"
   ]
  },
  {
   "cell_type": "code",
   "execution_count": 71,
   "metadata": {},
   "outputs": [
    {
     "data": {
      "text/html": [
       "<div>\n",
       "<style scoped>\n",
       "    .dataframe tbody tr th:only-of-type {\n",
       "        vertical-align: middle;\n",
       "    }\n",
       "\n",
       "    .dataframe tbody tr th {\n",
       "        vertical-align: top;\n",
       "    }\n",
       "\n",
       "    .dataframe thead th {\n",
       "        text-align: right;\n",
       "    }\n",
       "</style>\n",
       "<table border=\"1\" class=\"dataframe\">\n",
       "  <thead>\n",
       "    <tr style=\"text-align: right;\">\n",
       "      <th></th>\n",
       "      <th>id</th>\n",
       "      <th>release_date</th>\n",
       "      <th>title</th>\n",
       "      <th>production_budget</th>\n",
       "      <th>domestic_gross</th>\n",
       "      <th>worldwide_gross</th>\n",
       "    </tr>\n",
       "  </thead>\n",
       "  <tbody>\n",
       "    <tr>\n",
       "      <th>0</th>\n",
       "      <td>1</td>\n",
       "      <td>Dec 18, 2009</td>\n",
       "      <td>Avatar</td>\n",
       "      <td>$425,000,000</td>\n",
       "      <td>$760,507,625</td>\n",
       "      <td>$2,776,345,279</td>\n",
       "    </tr>\n",
       "    <tr>\n",
       "      <th>1</th>\n",
       "      <td>2</td>\n",
       "      <td>May 20, 2011</td>\n",
       "      <td>Pirates of the Caribbean: On Stranger Tides</td>\n",
       "      <td>$410,600,000</td>\n",
       "      <td>$241,063,875</td>\n",
       "      <td>$1,045,663,875</td>\n",
       "    </tr>\n",
       "    <tr>\n",
       "      <th>2</th>\n",
       "      <td>3</td>\n",
       "      <td>Jun 7, 2019</td>\n",
       "      <td>Dark Phoenix</td>\n",
       "      <td>$350,000,000</td>\n",
       "      <td>$42,762,350</td>\n",
       "      <td>$149,762,350</td>\n",
       "    </tr>\n",
       "    <tr>\n",
       "      <th>3</th>\n",
       "      <td>4</td>\n",
       "      <td>May 1, 2015</td>\n",
       "      <td>Avengers: Age of Ultron</td>\n",
       "      <td>$330,600,000</td>\n",
       "      <td>$459,005,868</td>\n",
       "      <td>$1,403,013,963</td>\n",
       "    </tr>\n",
       "    <tr>\n",
       "      <th>4</th>\n",
       "      <td>5</td>\n",
       "      <td>Dec 15, 2017</td>\n",
       "      <td>Star Wars Ep. VIII: The Last Jedi</td>\n",
       "      <td>$317,000,000</td>\n",
       "      <td>$620,181,382</td>\n",
       "      <td>$1,316,721,747</td>\n",
       "    </tr>\n",
       "  </tbody>\n",
       "</table>\n",
       "</div>"
      ],
      "text/plain": [
       "   id  release_date                                        title  \\\n",
       "0   1  Dec 18, 2009                                       Avatar   \n",
       "1   2  May 20, 2011  Pirates of the Caribbean: On Stranger Tides   \n",
       "2   3   Jun 7, 2019                                 Dark Phoenix   \n",
       "3   4   May 1, 2015                      Avengers: Age of Ultron   \n",
       "4   5  Dec 15, 2017            Star Wars Ep. VIII: The Last Jedi   \n",
       "\n",
       "  production_budget domestic_gross worldwide_gross  \n",
       "0      $425,000,000   $760,507,625  $2,776,345,279  \n",
       "1      $410,600,000   $241,063,875  $1,045,663,875  \n",
       "2      $350,000,000    $42,762,350    $149,762,350  \n",
       "3      $330,600,000   $459,005,868  $1,403,013,963  \n",
       "4      $317,000,000   $620,181,382  $1,316,721,747  "
      ]
     },
     "execution_count": 71,
     "metadata": {},
     "output_type": "execute_result"
    }
   ],
   "source": [
    "movie_budgets = movie_budgets.rename(columns={'movie':'title'})\n",
    "movie_budgets.head()"
   ]
  },
  {
   "cell_type": "code",
   "execution_count": 72,
   "metadata": {},
   "outputs": [
    {
     "data": {
      "text/plain": [
       "(5782, 6)"
      ]
     },
     "execution_count": 72,
     "metadata": {},
     "output_type": "execute_result"
    }
   ],
   "source": [
    "movie_budgets.shape"
   ]
  },
  {
   "cell_type": "markdown",
   "metadata": {},
   "source": [
    "Now removing NaN's from the movie budget file.\n",
    ".\n",
    ".\n",
    "."
   ]
  },
  {
   "cell_type": "code",
   "execution_count": 73,
   "metadata": {},
   "outputs": [],
   "source": [
    "movie_budgets.dropna(inplace=True)"
   ]
  },
  {
   "cell_type": "code",
   "execution_count": 74,
   "metadata": {},
   "outputs": [
    {
     "data": {
      "text/plain": [
       "(5782, 6)"
      ]
     },
     "execution_count": 74,
     "metadata": {},
     "output_type": "execute_result"
    }
   ],
   "source": [
    "movie_budgets.shape"
   ]
  },
  {
   "cell_type": "markdown",
   "metadata": {},
   "source": [
    "Cleaning up value columns to be able to perform calculations.\n",
    ".\n",
    ".\n",
    "."
   ]
  },
  {
   "cell_type": "code",
   "execution_count": 75,
   "metadata": {},
   "outputs": [],
   "source": [
    "movie_budgets['production_budget'] = movie_budgets['production_budget'].str.replace(',','')"
   ]
  },
  {
   "cell_type": "code",
   "execution_count": 76,
   "metadata": {},
   "outputs": [
    {
     "data": {
      "text/plain": [
       "0    425000000.0\n",
       "1    410600000.0\n",
       "2    350000000.0\n",
       "3    330600000.0\n",
       "4    317000000.0\n",
       "Name: production_budget, dtype: float64"
      ]
     },
     "execution_count": 76,
     "metadata": {},
     "output_type": "execute_result"
    }
   ],
   "source": [
    "movie_budgets['production_budget'] = movie_budgets['production_budget'].str.replace('$','')\n",
    "movie_budgets['production_budget'] = movie_budgets['production_budget'].astype(float)\n",
    "movie_budgets['production_budget'].head()"
   ]
  },
  {
   "cell_type": "code",
   "execution_count": 77,
   "metadata": {},
   "outputs": [],
   "source": [
    "movie_budgets['worldwide_gross'] = movie_budgets['worldwide_gross'].str.replace(',','')"
   ]
  },
  {
   "cell_type": "code",
   "execution_count": 78,
   "metadata": {},
   "outputs": [
    {
     "data": {
      "text/plain": [
       "0    2.776345e+09\n",
       "1    1.045664e+09\n",
       "2    1.497624e+08\n",
       "3    1.403014e+09\n",
       "4    1.316722e+09\n",
       "Name: worldwide_gross, dtype: float64"
      ]
     },
     "execution_count": 78,
     "metadata": {},
     "output_type": "execute_result"
    }
   ],
   "source": [
    "movie_budgets['worldwide_gross'] = movie_budgets['worldwide_gross'].str.replace('$','')\n",
    "movie_budgets['worldwide_gross'] = movie_budgets['worldwide_gross'].astype(float)\n",
    "movie_budgets['worldwide_gross'].head()"
   ]
  },
  {
   "cell_type": "markdown",
   "metadata": {},
   "source": [
    "Creating column of Return on Investment through dividing the gross by the budget. \n",
    ".\n",
    ".\n",
    "."
   ]
  },
  {
   "cell_type": "code",
   "execution_count": 79,
   "metadata": {},
   "outputs": [
    {
     "data": {
      "text/plain": [
       "0         653.257713\n",
       "1         254.667286\n",
       "2          42.789243\n",
       "3         424.384139\n",
       "4         415.369636\n",
       "            ...     \n",
       "5777        0.000000\n",
       "5778     4008.250000\n",
       "5779       26.760000\n",
       "5780        0.000000\n",
       "5781    16458.272727\n",
       "Length: 5782, dtype: float64"
      ]
     },
     "execution_count": 79,
     "metadata": {},
     "output_type": "execute_result"
    }
   ],
   "source": [
    "roi = (movie_budgets['worldwide_gross']/ movie_budgets['production_budget']) *100\n",
    "roi"
   ]
  },
  {
   "cell_type": "code",
   "execution_count": 80,
   "metadata": {},
   "outputs": [],
   "source": [
    "prod_budget = movie_budgets['production_budget']"
   ]
  },
  {
   "cell_type": "code",
   "execution_count": 81,
   "metadata": {},
   "outputs": [],
   "source": [
    "budget = movie_budgets['production_budget'].sort_values(ascending=False)"
   ]
  },
  {
   "cell_type": "markdown",
   "metadata": {},
   "source": [
    "Working with Title Basics file."
   ]
  },
  {
   "cell_type": "code",
   "execution_count": 82,
   "metadata": {},
   "outputs": [],
   "source": [
    "title_basics = title_basics.rename(columns={'primary_title':'title','start_year':'year'})"
   ]
  },
  {
   "cell_type": "code",
   "execution_count": 83,
   "metadata": {
    "scrolled": false
   },
   "outputs": [
    {
     "data": {
      "text/html": [
       "<div>\n",
       "<style scoped>\n",
       "    .dataframe tbody tr th:only-of-type {\n",
       "        vertical-align: middle;\n",
       "    }\n",
       "\n",
       "    .dataframe tbody tr th {\n",
       "        vertical-align: top;\n",
       "    }\n",
       "\n",
       "    .dataframe thead th {\n",
       "        text-align: right;\n",
       "    }\n",
       "</style>\n",
       "<table border=\"1\" class=\"dataframe\">\n",
       "  <thead>\n",
       "    <tr style=\"text-align: right;\">\n",
       "      <th></th>\n",
       "      <th>tconst</th>\n",
       "      <th>title</th>\n",
       "      <th>original_title</th>\n",
       "      <th>year</th>\n",
       "      <th>runtime_minutes</th>\n",
       "      <th>genres</th>\n",
       "    </tr>\n",
       "  </thead>\n",
       "  <tbody>\n",
       "    <tr>\n",
       "      <th>0</th>\n",
       "      <td>tt0063540</td>\n",
       "      <td>Sunghursh</td>\n",
       "      <td>Sunghursh</td>\n",
       "      <td>2013</td>\n",
       "      <td>175.0</td>\n",
       "      <td>Action,Crime,Drama</td>\n",
       "    </tr>\n",
       "    <tr>\n",
       "      <th>1</th>\n",
       "      <td>tt0066787</td>\n",
       "      <td>One Day Before the Rainy Season</td>\n",
       "      <td>Ashad Ka Ek Din</td>\n",
       "      <td>2019</td>\n",
       "      <td>114.0</td>\n",
       "      <td>Biography,Drama</td>\n",
       "    </tr>\n",
       "    <tr>\n",
       "      <th>2</th>\n",
       "      <td>tt0069049</td>\n",
       "      <td>The Other Side of the Wind</td>\n",
       "      <td>The Other Side of the Wind</td>\n",
       "      <td>2018</td>\n",
       "      <td>122.0</td>\n",
       "      <td>Drama</td>\n",
       "    </tr>\n",
       "    <tr>\n",
       "      <th>3</th>\n",
       "      <td>tt0069204</td>\n",
       "      <td>Sabse Bada Sukh</td>\n",
       "      <td>Sabse Bada Sukh</td>\n",
       "      <td>2018</td>\n",
       "      <td>NaN</td>\n",
       "      <td>Comedy,Drama</td>\n",
       "    </tr>\n",
       "    <tr>\n",
       "      <th>4</th>\n",
       "      <td>tt0100275</td>\n",
       "      <td>The Wandering Soap Opera</td>\n",
       "      <td>La Telenovela Errante</td>\n",
       "      <td>2017</td>\n",
       "      <td>80.0</td>\n",
       "      <td>Comedy,Drama,Fantasy</td>\n",
       "    </tr>\n",
       "  </tbody>\n",
       "</table>\n",
       "</div>"
      ],
      "text/plain": [
       "      tconst                            title              original_title  \\\n",
       "0  tt0063540                        Sunghursh                   Sunghursh   \n",
       "1  tt0066787  One Day Before the Rainy Season             Ashad Ka Ek Din   \n",
       "2  tt0069049       The Other Side of the Wind  The Other Side of the Wind   \n",
       "3  tt0069204                  Sabse Bada Sukh             Sabse Bada Sukh   \n",
       "4  tt0100275         The Wandering Soap Opera       La Telenovela Errante   \n",
       "\n",
       "   year  runtime_minutes                genres  \n",
       "0  2013            175.0    Action,Crime,Drama  \n",
       "1  2019            114.0       Biography,Drama  \n",
       "2  2018            122.0                 Drama  \n",
       "3  2018              NaN          Comedy,Drama  \n",
       "4  2017             80.0  Comedy,Drama,Fantasy  "
      ]
     },
     "execution_count": 83,
     "metadata": {},
     "output_type": "execute_result"
    }
   ],
   "source": [
    "title_basics.head()"
   ]
  },
  {
   "cell_type": "code",
   "execution_count": 84,
   "metadata": {},
   "outputs": [
    {
     "data": {
      "text/plain": [
       "Documentary                    32185\n",
       "Drama                          21486\n",
       "Comedy                          9177\n",
       "Horror                          4372\n",
       "Comedy,Drama                    3519\n",
       "                               ...  \n",
       "Comedy,Sci-Fi,Sport                1\n",
       "History,Sci-Fi,Thriller            1\n",
       "Animation,Biography,Fantasy        1\n",
       "Mystery,Reality-TV,Thriller        1\n",
       "Mystery,Thriller,Western           1\n",
       "Name: genres, Length: 1085, dtype: int64"
      ]
     },
     "execution_count": 84,
     "metadata": {},
     "output_type": "execute_result"
    }
   ],
   "source": [
    "title_basics['genres'].value_counts()"
   ]
  },
  {
   "cell_type": "code",
   "execution_count": 85,
   "metadata": {},
   "outputs": [
    {
     "data": {
      "text/plain": [
       "(146144, 6)"
      ]
     },
     "execution_count": 85,
     "metadata": {},
     "output_type": "execute_result"
    }
   ],
   "source": [
    "title_basics.shape"
   ]
  },
  {
   "cell_type": "code",
   "execution_count": 86,
   "metadata": {},
   "outputs": [
    {
     "data": {
      "text/plain": [
       "(2007, 6)"
      ]
     },
     "execution_count": 86,
     "metadata": {},
     "output_type": "execute_result"
    }
   ],
   "source": [
    "movie_gross.shape"
   ]
  },
  {
   "cell_type": "markdown",
   "metadata": {},
   "source": [
    "Merging Movie Gross and Title Basics dataFrames by Year and Title columns. "
   ]
  },
  {
   "cell_type": "code",
   "execution_count": 87,
   "metadata": {},
   "outputs": [],
   "source": [
    "outer_merged = movie_gross.merge(title_basics,on=[\"title\",\"year\"])"
   ]
  },
  {
   "cell_type": "code",
   "execution_count": 88,
   "metadata": {},
   "outputs": [
    {
     "data": {
      "text/plain": [
       "(1268, 10)"
      ]
     },
     "execution_count": 88,
     "metadata": {},
     "output_type": "execute_result"
    }
   ],
   "source": [
    "outer_merged.shape"
   ]
  },
  {
   "cell_type": "markdown",
   "metadata": {},
   "source": [
    "Merging the combined Movie Gross and Title Basics dataFrame -Outer Merged- into new dataFrame df which includes the Movie Budgets dataFrame.\n",
    ".\n",
    ".\n",
    "."
   ]
  },
  {
   "cell_type": "code",
   "execution_count": 89,
   "metadata": {},
   "outputs": [],
   "source": [
    "df = outer_merged.merge(movie_budgets,on=['title'])"
   ]
  },
  {
   "cell_type": "code",
   "execution_count": 90,
   "metadata": {},
   "outputs": [
    {
     "data": {
      "text/plain": [
       "(961, 15)"
      ]
     },
     "execution_count": 90,
     "metadata": {},
     "output_type": "execute_result"
    }
   ],
   "source": [
    "df.shape"
   ]
  },
  {
   "cell_type": "code",
   "execution_count": 91,
   "metadata": {
    "scrolled": true
   },
   "outputs": [
    {
     "data": {
      "text/html": [
       "<div>\n",
       "<style scoped>\n",
       "    .dataframe tbody tr th:only-of-type {\n",
       "        vertical-align: middle;\n",
       "    }\n",
       "\n",
       "    .dataframe tbody tr th {\n",
       "        vertical-align: top;\n",
       "    }\n",
       "\n",
       "    .dataframe thead th {\n",
       "        text-align: right;\n",
       "    }\n",
       "</style>\n",
       "<table border=\"1\" class=\"dataframe\">\n",
       "  <thead>\n",
       "    <tr style=\"text-align: right;\">\n",
       "      <th></th>\n",
       "      <th>title</th>\n",
       "      <th>studio</th>\n",
       "      <th>domestic_gross_x</th>\n",
       "      <th>foreign_gross</th>\n",
       "      <th>total_gross</th>\n",
       "      <th>year</th>\n",
       "      <th>tconst</th>\n",
       "      <th>original_title</th>\n",
       "      <th>runtime_minutes</th>\n",
       "      <th>genres</th>\n",
       "      <th>id</th>\n",
       "      <th>release_date</th>\n",
       "      <th>production_budget</th>\n",
       "      <th>domestic_gross_y</th>\n",
       "      <th>worldwide_gross</th>\n",
       "    </tr>\n",
       "  </thead>\n",
       "  <tbody>\n",
       "    <tr>\n",
       "      <th>0</th>\n",
       "      <td>Toy Story 3</td>\n",
       "      <td>BV</td>\n",
       "      <td>415000000.0</td>\n",
       "      <td>652000000.0</td>\n",
       "      <td>1.067000e+09</td>\n",
       "      <td>2010</td>\n",
       "      <td>tt0435761</td>\n",
       "      <td>Toy Story 3</td>\n",
       "      <td>103.0</td>\n",
       "      <td>Adventure,Animation,Comedy</td>\n",
       "      <td>47</td>\n",
       "      <td>Jun 18, 2010</td>\n",
       "      <td>200000000.0</td>\n",
       "      <td>$415,004,880</td>\n",
       "      <td>1.068880e+09</td>\n",
       "    </tr>\n",
       "    <tr>\n",
       "      <th>1</th>\n",
       "      <td>Inception</td>\n",
       "      <td>WB</td>\n",
       "      <td>292600000.0</td>\n",
       "      <td>535700000.0</td>\n",
       "      <td>8.283000e+08</td>\n",
       "      <td>2010</td>\n",
       "      <td>tt1375666</td>\n",
       "      <td>Inception</td>\n",
       "      <td>148.0</td>\n",
       "      <td>Action,Adventure,Sci-Fi</td>\n",
       "      <td>38</td>\n",
       "      <td>Jul 16, 2010</td>\n",
       "      <td>160000000.0</td>\n",
       "      <td>$292,576,195</td>\n",
       "      <td>8.355246e+08</td>\n",
       "    </tr>\n",
       "    <tr>\n",
       "      <th>2</th>\n",
       "      <td>Shrek Forever After</td>\n",
       "      <td>P/DW</td>\n",
       "      <td>238700000.0</td>\n",
       "      <td>513900000.0</td>\n",
       "      <td>7.526000e+08</td>\n",
       "      <td>2010</td>\n",
       "      <td>tt0892791</td>\n",
       "      <td>Shrek Forever After</td>\n",
       "      <td>93.0</td>\n",
       "      <td>Adventure,Animation,Comedy</td>\n",
       "      <td>27</td>\n",
       "      <td>May 21, 2010</td>\n",
       "      <td>165000000.0</td>\n",
       "      <td>$238,736,787</td>\n",
       "      <td>7.562447e+08</td>\n",
       "    </tr>\n",
       "    <tr>\n",
       "      <th>3</th>\n",
       "      <td>The Twilight Saga: Eclipse</td>\n",
       "      <td>Sum.</td>\n",
       "      <td>300500000.0</td>\n",
       "      <td>398000000.0</td>\n",
       "      <td>6.985000e+08</td>\n",
       "      <td>2010</td>\n",
       "      <td>tt1325004</td>\n",
       "      <td>The Twilight Saga: Eclipse</td>\n",
       "      <td>124.0</td>\n",
       "      <td>Adventure,Drama,Fantasy</td>\n",
       "      <td>53</td>\n",
       "      <td>Jun 30, 2010</td>\n",
       "      <td>68000000.0</td>\n",
       "      <td>$300,531,751</td>\n",
       "      <td>7.061028e+08</td>\n",
       "    </tr>\n",
       "    <tr>\n",
       "      <th>4</th>\n",
       "      <td>Iron Man 2</td>\n",
       "      <td>Par.</td>\n",
       "      <td>312400000.0</td>\n",
       "      <td>311500000.0</td>\n",
       "      <td>6.239000e+08</td>\n",
       "      <td>2010</td>\n",
       "      <td>tt1228705</td>\n",
       "      <td>Iron Man 2</td>\n",
       "      <td>124.0</td>\n",
       "      <td>Action,Adventure,Sci-Fi</td>\n",
       "      <td>15</td>\n",
       "      <td>May 7, 2010</td>\n",
       "      <td>170000000.0</td>\n",
       "      <td>$312,433,331</td>\n",
       "      <td>6.211564e+08</td>\n",
       "    </tr>\n",
       "    <tr>\n",
       "      <th>5</th>\n",
       "      <td>Tangled</td>\n",
       "      <td>BV</td>\n",
       "      <td>200800000.0</td>\n",
       "      <td>391000000.0</td>\n",
       "      <td>5.918000e+08</td>\n",
       "      <td>2010</td>\n",
       "      <td>tt0398286</td>\n",
       "      <td>Tangled</td>\n",
       "      <td>100.0</td>\n",
       "      <td>Adventure,Animation,Comedy</td>\n",
       "      <td>15</td>\n",
       "      <td>Nov 24, 2010</td>\n",
       "      <td>260000000.0</td>\n",
       "      <td>$200,821,936</td>\n",
       "      <td>5.864772e+08</td>\n",
       "    </tr>\n",
       "    <tr>\n",
       "      <th>6</th>\n",
       "      <td>Despicable Me</td>\n",
       "      <td>Uni.</td>\n",
       "      <td>251500000.0</td>\n",
       "      <td>291600000.0</td>\n",
       "      <td>5.431000e+08</td>\n",
       "      <td>2010</td>\n",
       "      <td>tt1323594</td>\n",
       "      <td>Despicable Me</td>\n",
       "      <td>95.0</td>\n",
       "      <td>Animation,Comedy,Family</td>\n",
       "      <td>50</td>\n",
       "      <td>Jul 9, 2010</td>\n",
       "      <td>69000000.0</td>\n",
       "      <td>$251,513,985</td>\n",
       "      <td>5.434646e+08</td>\n",
       "    </tr>\n",
       "    <tr>\n",
       "      <th>7</th>\n",
       "      <td>How to Train Your Dragon</td>\n",
       "      <td>P/DW</td>\n",
       "      <td>217600000.0</td>\n",
       "      <td>277300000.0</td>\n",
       "      <td>4.949000e+08</td>\n",
       "      <td>2010</td>\n",
       "      <td>tt0892769</td>\n",
       "      <td>How to Train Your Dragon</td>\n",
       "      <td>98.0</td>\n",
       "      <td>Action,Adventure,Animation</td>\n",
       "      <td>30</td>\n",
       "      <td>Mar 26, 2010</td>\n",
       "      <td>165000000.0</td>\n",
       "      <td>$217,581,232</td>\n",
       "      <td>4.948710e+08</td>\n",
       "    </tr>\n",
       "    <tr>\n",
       "      <th>8</th>\n",
       "      <td>The Chronicles of Narnia: The Voyage of the Da...</td>\n",
       "      <td>Fox</td>\n",
       "      <td>104400000.0</td>\n",
       "      <td>311300000.0</td>\n",
       "      <td>4.157000e+08</td>\n",
       "      <td>2010</td>\n",
       "      <td>tt0980970</td>\n",
       "      <td>The Chronicles of Narnia: The Voyage of the Da...</td>\n",
       "      <td>113.0</td>\n",
       "      <td>Adventure,Family,Fantasy</td>\n",
       "      <td>48</td>\n",
       "      <td>Dec 10, 2010</td>\n",
       "      <td>155000000.0</td>\n",
       "      <td>$104,386,950</td>\n",
       "      <td>4.181870e+08</td>\n",
       "    </tr>\n",
       "    <tr>\n",
       "      <th>9</th>\n",
       "      <td>The Karate Kid</td>\n",
       "      <td>Sony</td>\n",
       "      <td>176600000.0</td>\n",
       "      <td>182500000.0</td>\n",
       "      <td>3.591000e+08</td>\n",
       "      <td>2010</td>\n",
       "      <td>tt1155076</td>\n",
       "      <td>The Karate Kid</td>\n",
       "      <td>140.0</td>\n",
       "      <td>Action,Drama,Family</td>\n",
       "      <td>77</td>\n",
       "      <td>Jun 11, 2010</td>\n",
       "      <td>40000000.0</td>\n",
       "      <td>$176,591,618</td>\n",
       "      <td>3.517749e+08</td>\n",
       "    </tr>\n",
       "  </tbody>\n",
       "</table>\n",
       "</div>"
      ],
      "text/plain": [
       "                                               title studio  domestic_gross_x  \\\n",
       "0                                        Toy Story 3     BV       415000000.0   \n",
       "1                                          Inception     WB       292600000.0   \n",
       "2                                Shrek Forever After   P/DW       238700000.0   \n",
       "3                         The Twilight Saga: Eclipse   Sum.       300500000.0   \n",
       "4                                         Iron Man 2   Par.       312400000.0   \n",
       "5                                            Tangled     BV       200800000.0   \n",
       "6                                      Despicable Me   Uni.       251500000.0   \n",
       "7                           How to Train Your Dragon   P/DW       217600000.0   \n",
       "8  The Chronicles of Narnia: The Voyage of the Da...    Fox       104400000.0   \n",
       "9                                     The Karate Kid   Sony       176600000.0   \n",
       "\n",
       "   foreign_gross   total_gross  year     tconst  \\\n",
       "0    652000000.0  1.067000e+09  2010  tt0435761   \n",
       "1    535700000.0  8.283000e+08  2010  tt1375666   \n",
       "2    513900000.0  7.526000e+08  2010  tt0892791   \n",
       "3    398000000.0  6.985000e+08  2010  tt1325004   \n",
       "4    311500000.0  6.239000e+08  2010  tt1228705   \n",
       "5    391000000.0  5.918000e+08  2010  tt0398286   \n",
       "6    291600000.0  5.431000e+08  2010  tt1323594   \n",
       "7    277300000.0  4.949000e+08  2010  tt0892769   \n",
       "8    311300000.0  4.157000e+08  2010  tt0980970   \n",
       "9    182500000.0  3.591000e+08  2010  tt1155076   \n",
       "\n",
       "                                      original_title  runtime_minutes  \\\n",
       "0                                        Toy Story 3            103.0   \n",
       "1                                          Inception            148.0   \n",
       "2                                Shrek Forever After             93.0   \n",
       "3                         The Twilight Saga: Eclipse            124.0   \n",
       "4                                         Iron Man 2            124.0   \n",
       "5                                            Tangled            100.0   \n",
       "6                                      Despicable Me             95.0   \n",
       "7                           How to Train Your Dragon             98.0   \n",
       "8  The Chronicles of Narnia: The Voyage of the Da...            113.0   \n",
       "9                                     The Karate Kid            140.0   \n",
       "\n",
       "                       genres  id  release_date  production_budget  \\\n",
       "0  Adventure,Animation,Comedy  47  Jun 18, 2010        200000000.0   \n",
       "1     Action,Adventure,Sci-Fi  38  Jul 16, 2010        160000000.0   \n",
       "2  Adventure,Animation,Comedy  27  May 21, 2010        165000000.0   \n",
       "3     Adventure,Drama,Fantasy  53  Jun 30, 2010         68000000.0   \n",
       "4     Action,Adventure,Sci-Fi  15   May 7, 2010        170000000.0   \n",
       "5  Adventure,Animation,Comedy  15  Nov 24, 2010        260000000.0   \n",
       "6     Animation,Comedy,Family  50   Jul 9, 2010         69000000.0   \n",
       "7  Action,Adventure,Animation  30  Mar 26, 2010        165000000.0   \n",
       "8    Adventure,Family,Fantasy  48  Dec 10, 2010        155000000.0   \n",
       "9         Action,Drama,Family  77  Jun 11, 2010         40000000.0   \n",
       "\n",
       "  domestic_gross_y  worldwide_gross  \n",
       "0     $415,004,880     1.068880e+09  \n",
       "1     $292,576,195     8.355246e+08  \n",
       "2     $238,736,787     7.562447e+08  \n",
       "3     $300,531,751     7.061028e+08  \n",
       "4     $312,433,331     6.211564e+08  \n",
       "5     $200,821,936     5.864772e+08  \n",
       "6     $251,513,985     5.434646e+08  \n",
       "7     $217,581,232     4.948710e+08  \n",
       "8     $104,386,950     4.181870e+08  \n",
       "9     $176,591,618     3.517749e+08  "
      ]
     },
     "execution_count": 91,
     "metadata": {},
     "output_type": "execute_result"
    }
   ],
   "source": [
    "df.head(10)"
   ]
  },
  {
   "cell_type": "code",
   "execution_count": 92,
   "metadata": {},
   "outputs": [],
   "source": [
    "df = df.sort_values(by='total_gross',ascending=False)"
   ]
  },
  {
   "cell_type": "code",
   "execution_count": 93,
   "metadata": {},
   "outputs": [
    {
     "data": {
      "text/html": [
       "<div>\n",
       "<style scoped>\n",
       "    .dataframe tbody tr th:only-of-type {\n",
       "        vertical-align: middle;\n",
       "    }\n",
       "\n",
       "    .dataframe tbody tr th {\n",
       "        vertical-align: top;\n",
       "    }\n",
       "\n",
       "    .dataframe thead th {\n",
       "        text-align: right;\n",
       "    }\n",
       "</style>\n",
       "<table border=\"1\" class=\"dataframe\">\n",
       "  <thead>\n",
       "    <tr style=\"text-align: right;\">\n",
       "      <th></th>\n",
       "      <th>domestic_gross_x</th>\n",
       "      <th>foreign_gross</th>\n",
       "      <th>total_gross</th>\n",
       "      <th>year</th>\n",
       "      <th>runtime_minutes</th>\n",
       "      <th>id</th>\n",
       "      <th>production_budget</th>\n",
       "      <th>worldwide_gross</th>\n",
       "    </tr>\n",
       "  </thead>\n",
       "  <tbody>\n",
       "    <tr>\n",
       "      <th>domestic_gross_x</th>\n",
       "      <td>1.000000</td>\n",
       "      <td>0.789275</td>\n",
       "      <td>0.910901</td>\n",
       "      <td>0.114329</td>\n",
       "      <td>0.286181</td>\n",
       "      <td>-0.048471</td>\n",
       "      <td>0.677983</td>\n",
       "      <td>0.933633</td>\n",
       "    </tr>\n",
       "    <tr>\n",
       "      <th>foreign_gross</th>\n",
       "      <td>0.789275</td>\n",
       "      <td>1.000000</td>\n",
       "      <td>0.972319</td>\n",
       "      <td>0.113146</td>\n",
       "      <td>0.284351</td>\n",
       "      <td>-0.057701</td>\n",
       "      <td>0.748327</td>\n",
       "      <td>0.893680</td>\n",
       "    </tr>\n",
       "    <tr>\n",
       "      <th>total_gross</th>\n",
       "      <td>0.910901</td>\n",
       "      <td>0.972319</td>\n",
       "      <td>1.000000</td>\n",
       "      <td>0.119537</td>\n",
       "      <td>0.300001</td>\n",
       "      <td>-0.057218</td>\n",
       "      <td>0.760851</td>\n",
       "      <td>0.955806</td>\n",
       "    </tr>\n",
       "    <tr>\n",
       "      <th>year</th>\n",
       "      <td>0.114329</td>\n",
       "      <td>0.113146</td>\n",
       "      <td>0.119537</td>\n",
       "      <td>1.000000</td>\n",
       "      <td>0.107017</td>\n",
       "      <td>0.046211</td>\n",
       "      <td>0.062615</td>\n",
       "      <td>0.131147</td>\n",
       "    </tr>\n",
       "    <tr>\n",
       "      <th>runtime_minutes</th>\n",
       "      <td>0.286181</td>\n",
       "      <td>0.284351</td>\n",
       "      <td>0.300001</td>\n",
       "      <td>0.107017</td>\n",
       "      <td>1.000000</td>\n",
       "      <td>-0.004758</td>\n",
       "      <td>0.347388</td>\n",
       "      <td>0.303172</td>\n",
       "    </tr>\n",
       "    <tr>\n",
       "      <th>id</th>\n",
       "      <td>-0.048471</td>\n",
       "      <td>-0.057701</td>\n",
       "      <td>-0.057218</td>\n",
       "      <td>0.046211</td>\n",
       "      <td>-0.004758</td>\n",
       "      <td>1.000000</td>\n",
       "      <td>-0.090832</td>\n",
       "      <td>-0.064152</td>\n",
       "    </tr>\n",
       "    <tr>\n",
       "      <th>production_budget</th>\n",
       "      <td>0.677983</td>\n",
       "      <td>0.748327</td>\n",
       "      <td>0.760851</td>\n",
       "      <td>0.062615</td>\n",
       "      <td>0.347388</td>\n",
       "      <td>-0.090832</td>\n",
       "      <td>1.000000</td>\n",
       "      <td>0.768410</td>\n",
       "    </tr>\n",
       "    <tr>\n",
       "      <th>worldwide_gross</th>\n",
       "      <td>0.933633</td>\n",
       "      <td>0.893680</td>\n",
       "      <td>0.955806</td>\n",
       "      <td>0.131147</td>\n",
       "      <td>0.303172</td>\n",
       "      <td>-0.064152</td>\n",
       "      <td>0.768410</td>\n",
       "      <td>1.000000</td>\n",
       "    </tr>\n",
       "  </tbody>\n",
       "</table>\n",
       "</div>"
      ],
      "text/plain": [
       "                   domestic_gross_x  foreign_gross  total_gross      year  \\\n",
       "domestic_gross_x           1.000000       0.789275     0.910901  0.114329   \n",
       "foreign_gross              0.789275       1.000000     0.972319  0.113146   \n",
       "total_gross                0.910901       0.972319     1.000000  0.119537   \n",
       "year                       0.114329       0.113146     0.119537  1.000000   \n",
       "runtime_minutes            0.286181       0.284351     0.300001  0.107017   \n",
       "id                        -0.048471      -0.057701    -0.057218  0.046211   \n",
       "production_budget          0.677983       0.748327     0.760851  0.062615   \n",
       "worldwide_gross            0.933633       0.893680     0.955806  0.131147   \n",
       "\n",
       "                   runtime_minutes        id  production_budget  \\\n",
       "domestic_gross_x          0.286181 -0.048471           0.677983   \n",
       "foreign_gross             0.284351 -0.057701           0.748327   \n",
       "total_gross               0.300001 -0.057218           0.760851   \n",
       "year                      0.107017  0.046211           0.062615   \n",
       "runtime_minutes           1.000000 -0.004758           0.347388   \n",
       "id                       -0.004758  1.000000          -0.090832   \n",
       "production_budget         0.347388 -0.090832           1.000000   \n",
       "worldwide_gross           0.303172 -0.064152           0.768410   \n",
       "\n",
       "                   worldwide_gross  \n",
       "domestic_gross_x          0.933633  \n",
       "foreign_gross             0.893680  \n",
       "total_gross               0.955806  \n",
       "year                      0.131147  \n",
       "runtime_minutes           0.303172  \n",
       "id                       -0.064152  \n",
       "production_budget         0.768410  \n",
       "worldwide_gross           1.000000  "
      ]
     },
     "execution_count": 93,
     "metadata": {},
     "output_type": "execute_result"
    }
   ],
   "source": [
    "df.corr()"
   ]
  },
  {
   "cell_type": "markdown",
   "metadata": {},
   "source": [
    "Creating Boolean Mask to see count of genres in the dataFrame"
   ]
  },
  {
   "cell_type": "code",
   "execution_count": 94,
   "metadata": {},
   "outputs": [],
   "source": [
    "bool_mask = df['genres'].value_counts()"
   ]
  },
  {
   "cell_type": "code",
   "execution_count": 95,
   "metadata": {},
   "outputs": [],
   "source": [
    "bool_mask = bool_mask.astype(int)"
   ]
  },
  {
   "cell_type": "code",
   "execution_count": 96,
   "metadata": {},
   "outputs": [],
   "source": [
    "mask = bool_mask > 5"
   ]
  },
  {
   "cell_type": "code",
   "execution_count": 97,
   "metadata": {},
   "outputs": [],
   "source": [
    "bool_mask = bool_mask[mask]"
   ]
  },
  {
   "cell_type": "code",
   "execution_count": 98,
   "metadata": {},
   "outputs": [
    {
     "data": {
      "text/plain": [
       "Adventure,Animation,Comedy    59\n",
       "Action,Adventure,Sci-Fi       42\n",
       "Comedy                        35\n",
       "Comedy,Drama                  31\n",
       "Comedy,Drama,Romance          28\n",
       "Comedy,Romance                27\n",
       "Action,Adventure,Fantasy      25\n",
       "Horror,Mystery,Thriller       24\n",
       "Drama                         23\n",
       "Drama,Romance                 23\n",
       "Action,Adventure,Drama        23\n",
       "Action,Crime,Drama            22\n",
       "Action,Comedy,Crime           21\n",
       "Biography,Drama,History       17\n",
       "Action,Crime,Thriller         16\n",
       "Action,Adventure,Comedy       15\n",
       "Action,Thriller               15\n",
       "Drama,Thriller                14\n",
       "Crime,Drama,Thriller          14\n",
       "Biography,Comedy,Drama        13\n",
       "Biography,Drama               12\n",
       "Horror,Thriller               12\n",
       "Action,Adventure,Animation    12\n",
       "Action,Adventure,Thriller     11\n",
       "Crime,Drama                   10\n",
       "Documentary                   10\n",
       "Action,Drama,Thriller         10\n",
       "Comedy,Family                  9\n",
       "Crime,Drama,Mystery            9\n",
       "Adventure,Family,Fantasy       8\n",
       "Biography,Crime,Drama          8\n",
       "Action,Adventure,Crime         8\n",
       "Adventure,Comedy,Family        8\n",
       "Adventure,Comedy,Drama         8\n",
       "Biography,Drama,Sport          7\n",
       "Drama,Horror,Mystery           7\n",
       "Action,Mystery,Thriller        7\n",
       "Drama,Mystery,Thriller         7\n",
       "Horror                         6\n",
       "Action,Drama,Sci-Fi            6\n",
       "Action,Sci-Fi,Thriller         6\n",
       "Biography,Drama,Thriller       6\n",
       "Drama,Sport                    6\n",
       "Comedy,Crime                   6\n",
       "Drama,Fantasy,Horror           6\n",
       "Adventure,Comedy               6\n",
       "Comedy,Crime,Drama             6\n",
       "Action,Horror,Sci-Fi           6\n",
       "Name: genres, dtype: int64"
      ]
     },
     "execution_count": 98,
     "metadata": {},
     "output_type": "execute_result"
    }
   ],
   "source": [
    "bool_mask"
   ]
  },
  {
   "cell_type": "code",
   "execution_count": 99,
   "metadata": {},
   "outputs": [],
   "source": [
    "#Proved to be unnecessary and useless"
   ]
  },
  {
   "cell_type": "markdown",
   "metadata": {},
   "source": [
    "Inserting ROI - created earlier - into new dataFrame\n",
    ".\n",
    ".\n",
    "."
   ]
  },
  {
   "cell_type": "code",
   "execution_count": 100,
   "metadata": {},
   "outputs": [
    {
     "data": {
      "text/html": [
       "<div>\n",
       "<style scoped>\n",
       "    .dataframe tbody tr th:only-of-type {\n",
       "        vertical-align: middle;\n",
       "    }\n",
       "\n",
       "    .dataframe tbody tr th {\n",
       "        vertical-align: top;\n",
       "    }\n",
       "\n",
       "    .dataframe thead th {\n",
       "        text-align: right;\n",
       "    }\n",
       "</style>\n",
       "<table border=\"1\" class=\"dataframe\">\n",
       "  <thead>\n",
       "    <tr style=\"text-align: right;\">\n",
       "      <th></th>\n",
       "      <th>title</th>\n",
       "      <th>studio</th>\n",
       "      <th>domestic_gross_x</th>\n",
       "      <th>foreign_gross</th>\n",
       "      <th>total_gross</th>\n",
       "      <th>roi</th>\n",
       "      <th>year</th>\n",
       "      <th>tconst</th>\n",
       "      <th>original_title</th>\n",
       "      <th>runtime_minutes</th>\n",
       "      <th>genres</th>\n",
       "      <th>id</th>\n",
       "      <th>release_date</th>\n",
       "      <th>production_budget</th>\n",
       "      <th>domestic_gross_y</th>\n",
       "      <th>worldwide_gross</th>\n",
       "    </tr>\n",
       "  </thead>\n",
       "  <tbody>\n",
       "    <tr>\n",
       "      <th>583</th>\n",
       "      <td>Avengers: Age of Ultron</td>\n",
       "      <td>BV</td>\n",
       "      <td>459000000.0</td>\n",
       "      <td>946400000.0</td>\n",
       "      <td>1.405400e+09</td>\n",
       "      <td>89.356304</td>\n",
       "      <td>2015</td>\n",
       "      <td>tt2395427</td>\n",
       "      <td>Avengers: Age of Ultron</td>\n",
       "      <td>141.0</td>\n",
       "      <td>Action,Adventure,Sci-Fi</td>\n",
       "      <td>4</td>\n",
       "      <td>May 1, 2015</td>\n",
       "      <td>330600000.0</td>\n",
       "      <td>$459,005,868</td>\n",
       "      <td>1.403014e+09</td>\n",
       "    </tr>\n",
       "    <tr>\n",
       "      <th>880</th>\n",
       "      <td>Black Panther</td>\n",
       "      <td>BV</td>\n",
       "      <td>700100000.0</td>\n",
       "      <td>646900000.0</td>\n",
       "      <td>1.347000e+09</td>\n",
       "      <td>119.533218</td>\n",
       "      <td>2018</td>\n",
       "      <td>tt1825683</td>\n",
       "      <td>Black Panther</td>\n",
       "      <td>134.0</td>\n",
       "      <td>Action,Adventure,Sci-Fi</td>\n",
       "      <td>42</td>\n",
       "      <td>Feb 16, 2018</td>\n",
       "      <td>200000000.0</td>\n",
       "      <td>$700,059,566</td>\n",
       "      <td>1.348258e+09</td>\n",
       "    </tr>\n",
       "    <tr>\n",
       "      <th>881</th>\n",
       "      <td>Jurassic World: Fallen Kingdom</td>\n",
       "      <td>Uni.</td>\n",
       "      <td>417700000.0</td>\n",
       "      <td>891800000.0</td>\n",
       "      <td>1.309500e+09</td>\n",
       "      <td>145.205948</td>\n",
       "      <td>2018</td>\n",
       "      <td>tt4881806</td>\n",
       "      <td>Jurassic World: Fallen Kingdom</td>\n",
       "      <td>128.0</td>\n",
       "      <td>Action,Adventure,Sci-Fi</td>\n",
       "      <td>13</td>\n",
       "      <td>Jun 22, 2018</td>\n",
       "      <td>170000000.0</td>\n",
       "      <td>$417,719,760</td>\n",
       "      <td>1.305773e+09</td>\n",
       "    </tr>\n",
       "    <tr>\n",
       "      <th>374</th>\n",
       "      <td>Frozen</td>\n",
       "      <td>BV</td>\n",
       "      <td>400700000.0</td>\n",
       "      <td>875700000.0</td>\n",
       "      <td>1.276400e+09</td>\n",
       "      <td>212.956024</td>\n",
       "      <td>2013</td>\n",
       "      <td>tt2294629</td>\n",
       "      <td>Frozen</td>\n",
       "      <td>102.0</td>\n",
       "      <td>Adventure,Animation,Comedy</td>\n",
       "      <td>56</td>\n",
       "      <td>Nov 22, 2013</td>\n",
       "      <td>150000000.0</td>\n",
       "      <td>$400,738,009</td>\n",
       "      <td>1.272470e+09</td>\n",
       "    </tr>\n",
       "    <tr>\n",
       "      <th>882</th>\n",
       "      <td>Incredibles 2</td>\n",
       "      <td>BV</td>\n",
       "      <td>608600000.0</td>\n",
       "      <td>634200000.0</td>\n",
       "      <td>1.242800e+09</td>\n",
       "      <td>216.387315</td>\n",
       "      <td>2018</td>\n",
       "      <td>tt3606756</td>\n",
       "      <td>Incredibles 2</td>\n",
       "      <td>118.0</td>\n",
       "      <td>Action,Adventure,Animation</td>\n",
       "      <td>44</td>\n",
       "      <td>Jun 15, 2018</td>\n",
       "      <td>200000000.0</td>\n",
       "      <td>$608,581,744</td>\n",
       "      <td>1.242521e+09</td>\n",
       "    </tr>\n",
       "    <tr>\n",
       "      <th>...</th>\n",
       "      <td>...</td>\n",
       "      <td>...</td>\n",
       "      <td>...</td>\n",
       "      <td>...</td>\n",
       "      <td>...</td>\n",
       "      <td>...</td>\n",
       "      <td>...</td>\n",
       "      <td>...</td>\n",
       "      <td>...</td>\n",
       "      <td>...</td>\n",
       "      <td>...</td>\n",
       "      <td>...</td>\n",
       "      <td>...</td>\n",
       "      <td>...</td>\n",
       "      <td>...</td>\n",
       "      <td>...</td>\n",
       "    </tr>\n",
       "    <tr>\n",
       "      <th>136</th>\n",
       "      <td>The Tempest</td>\n",
       "      <td>Mira.</td>\n",
       "      <td>278000.0</td>\n",
       "      <td>68700.0</td>\n",
       "      <td>3.467000e+05</td>\n",
       "      <td>504.581835</td>\n",
       "      <td>2010</td>\n",
       "      <td>tt1274300</td>\n",
       "      <td>The Tempest</td>\n",
       "      <td>110.0</td>\n",
       "      <td>Comedy,Drama,Fantasy</td>\n",
       "      <td>1</td>\n",
       "      <td>Dec 10, 2010</td>\n",
       "      <td>20000000.0</td>\n",
       "      <td>$277,943</td>\n",
       "      <td>2.779430e+05</td>\n",
       "    </tr>\n",
       "    <tr>\n",
       "      <th>137</th>\n",
       "      <td>The Tempest</td>\n",
       "      <td>Mira.</td>\n",
       "      <td>278000.0</td>\n",
       "      <td>68700.0</td>\n",
       "      <td>3.467000e+05</td>\n",
       "      <td>522.202901</td>\n",
       "      <td>2010</td>\n",
       "      <td>tt1683003</td>\n",
       "      <td>The Tempest</td>\n",
       "      <td>131.0</td>\n",
       "      <td>Drama</td>\n",
       "      <td>1</td>\n",
       "      <td>Dec 10, 2010</td>\n",
       "      <td>20000000.0</td>\n",
       "      <td>$277,943</td>\n",
       "      <td>2.779430e+05</td>\n",
       "    </tr>\n",
       "    <tr>\n",
       "      <th>138</th>\n",
       "      <td>Welcome to the Rileys</td>\n",
       "      <td>Gold.</td>\n",
       "      <td>159000.0</td>\n",
       "      <td>158000.0</td>\n",
       "      <td>3.170000e+05</td>\n",
       "      <td>405.616742</td>\n",
       "      <td>2010</td>\n",
       "      <td>tt1183923</td>\n",
       "      <td>Welcome to the Rileys</td>\n",
       "      <td>110.0</td>\n",
       "      <td>Drama</td>\n",
       "      <td>12</td>\n",
       "      <td>Oct 29, 2010</td>\n",
       "      <td>10000000.0</td>\n",
       "      <td>$152,857</td>\n",
       "      <td>3.559190e+05</td>\n",
       "    </tr>\n",
       "    <tr>\n",
       "      <th>878</th>\n",
       "      <td>City of Ghosts</td>\n",
       "      <td>IFC</td>\n",
       "      <td>128000.0</td>\n",
       "      <td>100000.0</td>\n",
       "      <td>2.280000e+05</td>\n",
       "      <td>271.297307</td>\n",
       "      <td>2017</td>\n",
       "      <td>tt6333056</td>\n",
       "      <td>City of Ghosts</td>\n",
       "      <td>92.0</td>\n",
       "      <td>Documentary,War</td>\n",
       "      <td>64</td>\n",
       "      <td>Apr 25, 2003</td>\n",
       "      <td>17500000.0</td>\n",
       "      <td>$325,491</td>\n",
       "      <td>3.254910e+05</td>\n",
       "    </tr>\n",
       "    <tr>\n",
       "      <th>139</th>\n",
       "      <td>Freakonomics</td>\n",
       "      <td>Magn.</td>\n",
       "      <td>101000.0</td>\n",
       "      <td>16400.0</td>\n",
       "      <td>1.174000e+05</td>\n",
       "      <td>493.312777</td>\n",
       "      <td>2010</td>\n",
       "      <td>tt1152822</td>\n",
       "      <td>Freakonomics</td>\n",
       "      <td>93.0</td>\n",
       "      <td>Documentary</td>\n",
       "      <td>80</td>\n",
       "      <td>Oct 1, 2010</td>\n",
       "      <td>2900000.0</td>\n",
       "      <td>$101,270</td>\n",
       "      <td>1.728670e+05</td>\n",
       "    </tr>\n",
       "  </tbody>\n",
       "</table>\n",
       "<p>961 rows × 16 columns</p>\n",
       "</div>"
      ],
      "text/plain": [
       "                              title studio  domestic_gross_x  foreign_gross  \\\n",
       "583         Avengers: Age of Ultron     BV       459000000.0    946400000.0   \n",
       "880                   Black Panther     BV       700100000.0    646900000.0   \n",
       "881  Jurassic World: Fallen Kingdom   Uni.       417700000.0    891800000.0   \n",
       "374                          Frozen     BV       400700000.0    875700000.0   \n",
       "882                   Incredibles 2     BV       608600000.0    634200000.0   \n",
       "..                              ...    ...               ...            ...   \n",
       "136                     The Tempest  Mira.          278000.0        68700.0   \n",
       "137                     The Tempest  Mira.          278000.0        68700.0   \n",
       "138           Welcome to the Rileys  Gold.          159000.0       158000.0   \n",
       "878                  City of Ghosts    IFC          128000.0       100000.0   \n",
       "139                    Freakonomics  Magn.          101000.0        16400.0   \n",
       "\n",
       "      total_gross         roi  year     tconst  \\\n",
       "583  1.405400e+09   89.356304  2015  tt2395427   \n",
       "880  1.347000e+09  119.533218  2018  tt1825683   \n",
       "881  1.309500e+09  145.205948  2018  tt4881806   \n",
       "374  1.276400e+09  212.956024  2013  tt2294629   \n",
       "882  1.242800e+09  216.387315  2018  tt3606756   \n",
       "..            ...         ...   ...        ...   \n",
       "136  3.467000e+05  504.581835  2010  tt1274300   \n",
       "137  3.467000e+05  522.202901  2010  tt1683003   \n",
       "138  3.170000e+05  405.616742  2010  tt1183923   \n",
       "878  2.280000e+05  271.297307  2017  tt6333056   \n",
       "139  1.174000e+05  493.312777  2010  tt1152822   \n",
       "\n",
       "                     original_title  runtime_minutes  \\\n",
       "583         Avengers: Age of Ultron            141.0   \n",
       "880                   Black Panther            134.0   \n",
       "881  Jurassic World: Fallen Kingdom            128.0   \n",
       "374                          Frozen            102.0   \n",
       "882                   Incredibles 2            118.0   \n",
       "..                              ...              ...   \n",
       "136                     The Tempest            110.0   \n",
       "137                     The Tempest            131.0   \n",
       "138           Welcome to the Rileys            110.0   \n",
       "878                  City of Ghosts             92.0   \n",
       "139                    Freakonomics             93.0   \n",
       "\n",
       "                         genres  id  release_date  production_budget  \\\n",
       "583     Action,Adventure,Sci-Fi   4   May 1, 2015        330600000.0   \n",
       "880     Action,Adventure,Sci-Fi  42  Feb 16, 2018        200000000.0   \n",
       "881     Action,Adventure,Sci-Fi  13  Jun 22, 2018        170000000.0   \n",
       "374  Adventure,Animation,Comedy  56  Nov 22, 2013        150000000.0   \n",
       "882  Action,Adventure,Animation  44  Jun 15, 2018        200000000.0   \n",
       "..                          ...  ..           ...                ...   \n",
       "136        Comedy,Drama,Fantasy   1  Dec 10, 2010         20000000.0   \n",
       "137                       Drama   1  Dec 10, 2010         20000000.0   \n",
       "138                       Drama  12  Oct 29, 2010         10000000.0   \n",
       "878             Documentary,War  64  Apr 25, 2003         17500000.0   \n",
       "139                 Documentary  80   Oct 1, 2010          2900000.0   \n",
       "\n",
       "    domestic_gross_y  worldwide_gross  \n",
       "583     $459,005,868     1.403014e+09  \n",
       "880     $700,059,566     1.348258e+09  \n",
       "881     $417,719,760     1.305773e+09  \n",
       "374     $400,738,009     1.272470e+09  \n",
       "882     $608,581,744     1.242521e+09  \n",
       "..               ...              ...  \n",
       "136         $277,943     2.779430e+05  \n",
       "137         $277,943     2.779430e+05  \n",
       "138         $152,857     3.559190e+05  \n",
       "878         $325,491     3.254910e+05  \n",
       "139         $101,270     1.728670e+05  \n",
       "\n",
       "[961 rows x 16 columns]"
      ]
     },
     "execution_count": 100,
     "metadata": {},
     "output_type": "execute_result"
    }
   ],
   "source": [
    "df.insert(5, \"roi\",roi, True)\n",
    "df"
   ]
  },
  {
   "cell_type": "markdown",
   "metadata": {},
   "source": [
    "Creating First Plot based on the production budget and the return on investment.\n",
    ".\n",
    ".\n",
    ".\n"
   ]
  },
  {
   "cell_type": "code",
   "execution_count": 101,
   "metadata": {},
   "outputs": [
    {
     "data": {
      "text/plain": [
       "Text(0, 0.5, 'ROI')"
      ]
     },
     "execution_count": 101,
     "metadata": {},
     "output_type": "execute_result"
    },
    {
     "data": {
      "image/png": "[encoded data removed]",
      "text/plain": [
       "<Figure size 432x288 with 1 Axes>"
      ]
     },
     "metadata": {
      "needs_background": "light"
     },
     "output_type": "display_data"
    }
   ],
   "source": [
    "df.plot.scatter(x='production_budget',y='roi')\n",
    "plt.title(\"Movies and ROI\")\n",
    "plt.xlabel(\"Movies\")\n",
    "plt.ylabel(\"ROI\")"
   ]
  },
  {
   "cell_type": "markdown",
   "metadata": {},
   "source": [
    "Creating plot using production budget and total gross and using roi to color the data points."
   ]
  },
  {
   "cell_type": "code",
   "execution_count": 114,
   "metadata": {
    "scrolled": true
   },
   "outputs": [
    {
     "data": {
      "image/png": "[encoded data removed]",
      "text/plain": [
       "<Figure size 864x720 with 2 Axes>"
      ]
     },
     "metadata": {
      "needs_background": "light"
     },
     "output_type": "display_data"
    }
   ],
   "source": [
    "df.plot.scatter(x='production_budget',y='total_gross',c='roi',colormap='viridis',figsize=(12,10));\n",
    "plt.xlabel(\"Budget\",fontsize=30);\n",
    "plt.title(\"ROI: Gross v. Budget\",fontsize=30);\n",
    "plt.ylabel(\"Gross\",fontsize=30);\n"
   ]
  },
  {
   "cell_type": "markdown",
   "metadata": {},
   "source": [
    "Creating group for Group Genre to be able to create a graph based on the Genre of the movies and Total Gross value."
   ]
  },
  {
   "cell_type": "code",
   "execution_count": 115,
   "metadata": {},
   "outputs": [
    {
     "data": {
      "text/html": [
       "<div>\n",
       "<style scoped>\n",
       "    .dataframe tbody tr th:only-of-type {\n",
       "        vertical-align: middle;\n",
       "    }\n",
       "\n",
       "    .dataframe tbody tr th {\n",
       "        vertical-align: top;\n",
       "    }\n",
       "\n",
       "    .dataframe thead th {\n",
       "        text-align: right;\n",
       "    }\n",
       "</style>\n",
       "<table border=\"1\" class=\"dataframe\">\n",
       "  <thead>\n",
       "    <tr style=\"text-align: right;\">\n",
       "      <th></th>\n",
       "      <th>domestic_gross_x</th>\n",
       "      <th>foreign_gross</th>\n",
       "      <th>total_gross</th>\n",
       "      <th>roi</th>\n",
       "      <th>year</th>\n",
       "      <th>runtime_minutes</th>\n",
       "      <th>id</th>\n",
       "      <th>production_budget</th>\n",
       "      <th>worldwide_gross</th>\n",
       "    </tr>\n",
       "    <tr>\n",
       "      <th>genres</th>\n",
       "      <th></th>\n",
       "      <th></th>\n",
       "      <th></th>\n",
       "      <th></th>\n",
       "      <th></th>\n",
       "      <th></th>\n",
       "      <th></th>\n",
       "      <th></th>\n",
       "      <th></th>\n",
       "    </tr>\n",
       "  </thead>\n",
       "  <tbody>\n",
       "    <tr>\n",
       "      <th>Adventure,Fantasy</th>\n",
       "      <td>1.929000e+08</td>\n",
       "      <td>5.111333e+08</td>\n",
       "      <td>7.040333e+08</td>\n",
       "      <td>164.309431</td>\n",
       "      <td>2013.333333</td>\n",
       "      <td>139.666667</td>\n",
       "      <td>36.333333</td>\n",
       "      <td>2.316667e+08</td>\n",
       "      <td>7.012107e+08</td>\n",
       "    </tr>\n",
       "    <tr>\n",
       "      <th>Adventure,Drama,Sci-Fi</th>\n",
       "      <td>2.082000e+08</td>\n",
       "      <td>4.455500e+08</td>\n",
       "      <td>6.537500e+08</td>\n",
       "      <td>223.825452</td>\n",
       "      <td>2014.500000</td>\n",
       "      <td>156.500000</td>\n",
       "      <td>39.000000</td>\n",
       "      <td>1.365000e+08</td>\n",
       "      <td>6.608254e+08</td>\n",
       "    </tr>\n",
       "    <tr>\n",
       "      <th>Action,Adventure,Sci-Fi</th>\n",
       "      <td>2.584690e+08</td>\n",
       "      <td>3.879643e+08</td>\n",
       "      <td>6.464334e+08</td>\n",
       "      <td>304.107567</td>\n",
       "      <td>2014.000000</td>\n",
       "      <td>132.595238</td>\n",
       "      <td>44.904762</td>\n",
       "      <td>1.771333e+08</td>\n",
       "      <td>7.015004e+08</td>\n",
       "    </tr>\n",
       "    <tr>\n",
       "      <th>Comedy,Mystery</th>\n",
       "      <td>2.545000e+08</td>\n",
       "      <td>3.323000e+08</td>\n",
       "      <td>5.868000e+08</td>\n",
       "      <td>113.546761</td>\n",
       "      <td>2011.000000</td>\n",
       "      <td>102.000000</td>\n",
       "      <td>39.000000</td>\n",
       "      <td>8.000000e+07</td>\n",
       "      <td>5.864643e+08</td>\n",
       "    </tr>\n",
       "    <tr>\n",
       "      <th>Action,Adventure,Animation</th>\n",
       "      <td>1.796333e+08</td>\n",
       "      <td>3.401000e+08</td>\n",
       "      <td>5.197333e+08</td>\n",
       "      <td>281.051473</td>\n",
       "      <td>2013.000000</td>\n",
       "      <td>99.583333</td>\n",
       "      <td>43.750000</td>\n",
       "      <td>1.383333e+08</td>\n",
       "      <td>5.177298e+08</td>\n",
       "    </tr>\n",
       "    <tr>\n",
       "      <th>Action,Adventure,Comedy</th>\n",
       "      <td>1.718133e+08</td>\n",
       "      <td>2.911733e+08</td>\n",
       "      <td>4.629867e+08</td>\n",
       "      <td>252.685179</td>\n",
       "      <td>2015.533333</td>\n",
       "      <td>111.866667</td>\n",
       "      <td>41.000000</td>\n",
       "      <td>1.018667e+08</td>\n",
       "      <td>4.628631e+08</td>\n",
       "    </tr>\n",
       "    <tr>\n",
       "      <th>Adventure,Animation,Comedy</th>\n",
       "      <td>1.553627e+08</td>\n",
       "      <td>2.892661e+08</td>\n",
       "      <td>4.446288e+08</td>\n",
       "      <td>275.665860</td>\n",
       "      <td>2014.118644</td>\n",
       "      <td>94.423729</td>\n",
       "      <td>45.305085</td>\n",
       "      <td>1.079237e+08</td>\n",
       "      <td>4.446385e+08</td>\n",
       "    </tr>\n",
       "    <tr>\n",
       "      <th>Action,Adventure,Fantasy</th>\n",
       "      <td>1.429800e+08</td>\n",
       "      <td>2.970440e+08</td>\n",
       "      <td>4.400240e+08</td>\n",
       "      <td>250.623916</td>\n",
       "      <td>2015.040000</td>\n",
       "      <td>119.080000</td>\n",
       "      <td>50.520000</td>\n",
       "      <td>1.566240e+08</td>\n",
       "      <td>4.374298e+08</td>\n",
       "    </tr>\n",
       "    <tr>\n",
       "      <th>Biography,Drama,Musical</th>\n",
       "      <td>1.743000e+08</td>\n",
       "      <td>2.607000e+08</td>\n",
       "      <td>4.350000e+08</td>\n",
       "      <td>114.731215</td>\n",
       "      <td>2017.000000</td>\n",
       "      <td>105.000000</td>\n",
       "      <td>25.000000</td>\n",
       "      <td>8.400000e+07</td>\n",
       "      <td>3.866656e+08</td>\n",
       "    </tr>\n",
       "    <tr>\n",
       "      <th>Drama,Western</th>\n",
       "      <td>1.628000e+08</td>\n",
       "      <td>2.626000e+08</td>\n",
       "      <td>4.254000e+08</td>\n",
       "      <td>243.292427</td>\n",
       "      <td>2012.000000</td>\n",
       "      <td>165.000000</td>\n",
       "      <td>69.000000</td>\n",
       "      <td>1.000000e+08</td>\n",
       "      <td>4.499483e+08</td>\n",
       "    </tr>\n",
       "  </tbody>\n",
       "</table>\n",
       "</div>"
      ],
      "text/plain": [
       "                            domestic_gross_x  foreign_gross   total_gross  \\\n",
       "genres                                                                      \n",
       "Adventure,Fantasy               1.929000e+08   5.111333e+08  7.040333e+08   \n",
       "Adventure,Drama,Sci-Fi          2.082000e+08   4.455500e+08  6.537500e+08   \n",
       "Action,Adventure,Sci-Fi         2.584690e+08   3.879643e+08  6.464334e+08   \n",
       "Comedy,Mystery                  2.545000e+08   3.323000e+08  5.868000e+08   \n",
       "Action,Adventure,Animation      1.796333e+08   3.401000e+08  5.197333e+08   \n",
       "Action,Adventure,Comedy         1.718133e+08   2.911733e+08  4.629867e+08   \n",
       "Adventure,Animation,Comedy      1.553627e+08   2.892661e+08  4.446288e+08   \n",
       "Action,Adventure,Fantasy        1.429800e+08   2.970440e+08  4.400240e+08   \n",
       "Biography,Drama,Musical         1.743000e+08   2.607000e+08  4.350000e+08   \n",
       "Drama,Western                   1.628000e+08   2.626000e+08  4.254000e+08   \n",
       "\n",
       "                                   roi         year  runtime_minutes  \\\n",
       "genres                                                                 \n",
       "Adventure,Fantasy           164.309431  2013.333333       139.666667   \n",
       "Adventure,Drama,Sci-Fi      223.825452  2014.500000       156.500000   \n",
       "Action,Adventure,Sci-Fi     304.107567  2014.000000       132.595238   \n",
       "Comedy,Mystery              113.546761  2011.000000       102.000000   \n",
       "Action,Adventure,Animation  281.051473  2013.000000        99.583333   \n",
       "Action,Adventure,Comedy     252.685179  2015.533333       111.866667   \n",
       "Adventure,Animation,Comedy  275.665860  2014.118644        94.423729   \n",
       "Action,Adventure,Fantasy    250.623916  2015.040000       119.080000   \n",
       "Biography,Drama,Musical     114.731215  2017.000000       105.000000   \n",
       "Drama,Western               243.292427  2012.000000       165.000000   \n",
       "\n",
       "                                   id  production_budget  worldwide_gross  \n",
       "genres                                                                     \n",
       "Adventure,Fantasy           36.333333       2.316667e+08     7.012107e+08  \n",
       "Adventure,Drama,Sci-Fi      39.000000       1.365000e+08     6.608254e+08  \n",
       "Action,Adventure,Sci-Fi     44.904762       1.771333e+08     7.015004e+08  \n",
       "Comedy,Mystery              39.000000       8.000000e+07     5.864643e+08  \n",
       "Action,Adventure,Animation  43.750000       1.383333e+08     5.177298e+08  \n",
       "Action,Adventure,Comedy     41.000000       1.018667e+08     4.628631e+08  \n",
       "Adventure,Animation,Comedy  45.305085       1.079237e+08     4.446385e+08  \n",
       "Action,Adventure,Fantasy    50.520000       1.566240e+08     4.374298e+08  \n",
       "Biography,Drama,Musical     25.000000       8.400000e+07     3.866656e+08  \n",
       "Drama,Western               69.000000       1.000000e+08     4.499483e+08  "
      ]
     },
     "execution_count": 115,
     "metadata": {},
     "output_type": "execute_result"
    }
   ],
   "source": [
    "group_genre = df.groupby(['genres']).mean()\n",
    "group_genre = group_genre.sort_values(by='total_gross',ascending=False)\n",
    "group_genre.head(10)"
   ]
  },
  {
   "cell_type": "code",
   "execution_count": 116,
   "metadata": {
    "scrolled": false
   },
   "outputs": [
    {
     "data": {
      "text/plain": [
       "<matplotlib.legend.Legend at 0x7fd2f955b220>"
      ]
     },
     "execution_count": 116,
     "metadata": {},
     "output_type": "execute_result"
    },
    {
     "data": {
      "image/png": "[encoded data removed]",
      "text/plain": [
       "<Figure size 1800x1800 with 1 Axes>"
      ]
     },
     "metadata": {
      "needs_background": "light"
     },
     "output_type": "display_data"
    }
   ],
   "source": [
    "group_genre.head(10).plot.bar(y=['domestic_gross_x','foreign_gross'],stacked=True,fontsize=30,rot=90,figsize=(25,25))\n",
    "plt.title(\"Genre and Total Gross\",fontsize=30)\n",
    "plt.xlabel(\"Genre\",fontsize=30)\n",
    "plt.ylabel(\"Mean Total Gross\",fontsize=30)\n",
    "plt.legend(fontsize=25)"
   ]
  },
  {
   "cell_type": "markdown",
   "metadata": {},
   "source": [
    "Starting to work with the Ratings dataFrame"
   ]
  },
  {
   "cell_type": "code",
   "execution_count": 117,
   "metadata": {},
   "outputs": [
    {
     "data": {
      "text/html": [
       "<div>\n",
       "<style scoped>\n",
       "    .dataframe tbody tr th:only-of-type {\n",
       "        vertical-align: middle;\n",
       "    }\n",
       "\n",
       "    .dataframe tbody tr th {\n",
       "        vertical-align: top;\n",
       "    }\n",
       "\n",
       "    .dataframe thead th {\n",
       "        text-align: right;\n",
       "    }\n",
       "</style>\n",
       "<table border=\"1\" class=\"dataframe\">\n",
       "  <thead>\n",
       "    <tr style=\"text-align: right;\">\n",
       "      <th></th>\n",
       "      <th>Unnamed: 0</th>\n",
       "      <th>id</th>\n",
       "      <th>popularity</th>\n",
       "      <th>vote_average</th>\n",
       "      <th>vote_count</th>\n",
       "    </tr>\n",
       "  </thead>\n",
       "  <tbody>\n",
       "    <tr>\n",
       "      <th>count</th>\n",
       "      <td>26517.00000</td>\n",
       "      <td>26517.000000</td>\n",
       "      <td>26517.000000</td>\n",
       "      <td>26517.000000</td>\n",
       "      <td>26517.000000</td>\n",
       "    </tr>\n",
       "    <tr>\n",
       "      <th>mean</th>\n",
       "      <td>13258.00000</td>\n",
       "      <td>295050.153260</td>\n",
       "      <td>3.130912</td>\n",
       "      <td>5.991281</td>\n",
       "      <td>194.224837</td>\n",
       "    </tr>\n",
       "    <tr>\n",
       "      <th>std</th>\n",
       "      <td>7654.94288</td>\n",
       "      <td>153661.615648</td>\n",
       "      <td>4.355229</td>\n",
       "      <td>1.852946</td>\n",
       "      <td>960.961095</td>\n",
       "    </tr>\n",
       "    <tr>\n",
       "      <th>min</th>\n",
       "      <td>0.00000</td>\n",
       "      <td>27.000000</td>\n",
       "      <td>0.600000</td>\n",
       "      <td>0.000000</td>\n",
       "      <td>1.000000</td>\n",
       "    </tr>\n",
       "    <tr>\n",
       "      <th>25%</th>\n",
       "      <td>6629.00000</td>\n",
       "      <td>157851.000000</td>\n",
       "      <td>0.600000</td>\n",
       "      <td>5.000000</td>\n",
       "      <td>2.000000</td>\n",
       "    </tr>\n",
       "    <tr>\n",
       "      <th>50%</th>\n",
       "      <td>13258.00000</td>\n",
       "      <td>309581.000000</td>\n",
       "      <td>1.374000</td>\n",
       "      <td>6.000000</td>\n",
       "      <td>5.000000</td>\n",
       "    </tr>\n",
       "    <tr>\n",
       "      <th>75%</th>\n",
       "      <td>19887.00000</td>\n",
       "      <td>419542.000000</td>\n",
       "      <td>3.694000</td>\n",
       "      <td>7.000000</td>\n",
       "      <td>28.000000</td>\n",
       "    </tr>\n",
       "    <tr>\n",
       "      <th>max</th>\n",
       "      <td>26516.00000</td>\n",
       "      <td>608444.000000</td>\n",
       "      <td>80.773000</td>\n",
       "      <td>10.000000</td>\n",
       "      <td>22186.000000</td>\n",
       "    </tr>\n",
       "  </tbody>\n",
       "</table>\n",
       "</div>"
      ],
      "text/plain": [
       "        Unnamed: 0             id    popularity  vote_average    vote_count\n",
       "count  26517.00000   26517.000000  26517.000000  26517.000000  26517.000000\n",
       "mean   13258.00000  295050.153260      3.130912      5.991281    194.224837\n",
       "std     7654.94288  153661.615648      4.355229      1.852946    960.961095\n",
       "min        0.00000      27.000000      0.600000      0.000000      1.000000\n",
       "25%     6629.00000  157851.000000      0.600000      5.000000      2.000000\n",
       "50%    13258.00000  309581.000000      1.374000      6.000000      5.000000\n",
       "75%    19887.00000  419542.000000      3.694000      7.000000     28.000000\n",
       "max    26516.00000  608444.000000     80.773000     10.000000  22186.000000"
      ]
     },
     "execution_count": 117,
     "metadata": {},
     "output_type": "execute_result"
    }
   ],
   "source": [
    "rating.describe()"
   ]
  },
  {
   "cell_type": "code",
   "execution_count": 107,
   "metadata": {},
   "outputs": [
    {
     "data": {
      "text/plain": [
       "(26517, 10)"
      ]
     },
     "execution_count": 107,
     "metadata": {},
     "output_type": "execute_result"
    }
   ],
   "source": [
    "rating.shape"
   ]
  },
  {
   "cell_type": "code",
   "execution_count": 108,
   "metadata": {},
   "outputs": [
    {
     "data": {
      "text/html": [
       "<div>\n",
       "<style scoped>\n",
       "    .dataframe tbody tr th:only-of-type {\n",
       "        vertical-align: middle;\n",
       "    }\n",
       "\n",
       "    .dataframe tbody tr th {\n",
       "        vertical-align: top;\n",
       "    }\n",
       "\n",
       "    .dataframe thead th {\n",
       "        text-align: right;\n",
       "    }\n",
       "</style>\n",
       "<table border=\"1\" class=\"dataframe\">\n",
       "  <thead>\n",
       "    <tr style=\"text-align: right;\">\n",
       "      <th></th>\n",
       "      <th>Unnamed: 0</th>\n",
       "      <th>genre_ids</th>\n",
       "      <th>id</th>\n",
       "      <th>original_language</th>\n",
       "      <th>original_title</th>\n",
       "      <th>popularity</th>\n",
       "      <th>release_date</th>\n",
       "      <th>title</th>\n",
       "      <th>vote_average</th>\n",
       "      <th>vote_count</th>\n",
       "    </tr>\n",
       "  </thead>\n",
       "  <tbody>\n",
       "    <tr>\n",
       "      <th>0</th>\n",
       "      <td>0</td>\n",
       "      <td>[12, 14, 10751]</td>\n",
       "      <td>12444</td>\n",
       "      <td>en</td>\n",
       "      <td>Harry Potter and the Deathly Hallows: Part 1</td>\n",
       "      <td>33.533</td>\n",
       "      <td>2010-11-19</td>\n",
       "      <td>Harry Potter and the Deathly Hallows: Part 1</td>\n",
       "      <td>7.7</td>\n",
       "      <td>10788</td>\n",
       "    </tr>\n",
       "    <tr>\n",
       "      <th>1</th>\n",
       "      <td>1</td>\n",
       "      <td>[14, 12, 16, 10751]</td>\n",
       "      <td>10191</td>\n",
       "      <td>en</td>\n",
       "      <td>How to Train Your Dragon</td>\n",
       "      <td>28.734</td>\n",
       "      <td>2010-03-26</td>\n",
       "      <td>How to Train Your Dragon</td>\n",
       "      <td>7.7</td>\n",
       "      <td>7610</td>\n",
       "    </tr>\n",
       "    <tr>\n",
       "      <th>2</th>\n",
       "      <td>2</td>\n",
       "      <td>[12, 28, 878]</td>\n",
       "      <td>10138</td>\n",
       "      <td>en</td>\n",
       "      <td>Iron Man 2</td>\n",
       "      <td>28.515</td>\n",
       "      <td>2010-05-07</td>\n",
       "      <td>Iron Man 2</td>\n",
       "      <td>6.8</td>\n",
       "      <td>12368</td>\n",
       "    </tr>\n",
       "    <tr>\n",
       "      <th>3</th>\n",
       "      <td>3</td>\n",
       "      <td>[16, 35, 10751]</td>\n",
       "      <td>862</td>\n",
       "      <td>en</td>\n",
       "      <td>Toy Story</td>\n",
       "      <td>28.005</td>\n",
       "      <td>1995-11-22</td>\n",
       "      <td>Toy Story</td>\n",
       "      <td>7.9</td>\n",
       "      <td>10174</td>\n",
       "    </tr>\n",
       "    <tr>\n",
       "      <th>4</th>\n",
       "      <td>4</td>\n",
       "      <td>[28, 878, 12]</td>\n",
       "      <td>27205</td>\n",
       "      <td>en</td>\n",
       "      <td>Inception</td>\n",
       "      <td>27.920</td>\n",
       "      <td>2010-07-16</td>\n",
       "      <td>Inception</td>\n",
       "      <td>8.3</td>\n",
       "      <td>22186</td>\n",
       "    </tr>\n",
       "  </tbody>\n",
       "</table>\n",
       "</div>"
      ],
      "text/plain": [
       "   Unnamed: 0            genre_ids     id original_language  \\\n",
       "0           0      [12, 14, 10751]  12444                en   \n",
       "1           1  [14, 12, 16, 10751]  10191                en   \n",
       "2           2        [12, 28, 878]  10138                en   \n",
       "3           3      [16, 35, 10751]    862                en   \n",
       "4           4        [28, 878, 12]  27205                en   \n",
       "\n",
       "                                 original_title  popularity release_date  \\\n",
       "0  Harry Potter and the Deathly Hallows: Part 1      33.533   2010-11-19   \n",
       "1                      How to Train Your Dragon      28.734   2010-03-26   \n",
       "2                                    Iron Man 2      28.515   2010-05-07   \n",
       "3                                     Toy Story      28.005   1995-11-22   \n",
       "4                                     Inception      27.920   2010-07-16   \n",
       "\n",
       "                                          title  vote_average  vote_count  \n",
       "0  Harry Potter and the Deathly Hallows: Part 1           7.7       10788  \n",
       "1                      How to Train Your Dragon           7.7        7610  \n",
       "2                                    Iron Man 2           6.8       12368  \n",
       "3                                     Toy Story           7.9       10174  \n",
       "4                                     Inception           8.3       22186  "
      ]
     },
     "execution_count": 108,
     "metadata": {},
     "output_type": "execute_result"
    }
   ],
   "source": [
    "rating.head()"
   ]
  },
  {
   "cell_type": "markdown",
   "metadata": {},
   "source": [
    "Merging Ratings dataFrame with the previsouly merged data frames."
   ]
  },
  {
   "cell_type": "code",
   "execution_count": 118,
   "metadata": {},
   "outputs": [],
   "source": [
    "df1 = df.merge(rating,on=['title'])"
   ]
  },
  {
   "cell_type": "code",
   "execution_count": 119,
   "metadata": {},
   "outputs": [
    {
     "data": {
      "text/plain": [
       "(1123, 25)"
      ]
     },
     "execution_count": 119,
     "metadata": {},
     "output_type": "execute_result"
    }
   ],
   "source": [
    "df1.shape"
   ]
  },
  {
   "cell_type": "code",
   "execution_count": 120,
   "metadata": {
    "scrolled": false
   },
   "outputs": [
    {
     "data": {
      "text/html": [
       "<div>\n",
       "<style scoped>\n",
       "    .dataframe tbody tr th:only-of-type {\n",
       "        vertical-align: middle;\n",
       "    }\n",
       "\n",
       "    .dataframe tbody tr th {\n",
       "        vertical-align: top;\n",
       "    }\n",
       "\n",
       "    .dataframe thead th {\n",
       "        text-align: right;\n",
       "    }\n",
       "</style>\n",
       "<table border=\"1\" class=\"dataframe\">\n",
       "  <thead>\n",
       "    <tr style=\"text-align: right;\">\n",
       "      <th></th>\n",
       "      <th>title</th>\n",
       "      <th>studio</th>\n",
       "      <th>domestic_gross_x</th>\n",
       "      <th>foreign_gross</th>\n",
       "      <th>total_gross</th>\n",
       "      <th>roi</th>\n",
       "      <th>year</th>\n",
       "      <th>tconst</th>\n",
       "      <th>original_title_x</th>\n",
       "      <th>runtime_minutes</th>\n",
       "      <th>...</th>\n",
       "      <th>worldwide_gross</th>\n",
       "      <th>Unnamed: 0</th>\n",
       "      <th>genre_ids</th>\n",
       "      <th>id_y</th>\n",
       "      <th>original_language</th>\n",
       "      <th>original_title_y</th>\n",
       "      <th>popularity</th>\n",
       "      <th>release_date_y</th>\n",
       "      <th>vote_average</th>\n",
       "      <th>vote_count</th>\n",
       "    </tr>\n",
       "  </thead>\n",
       "  <tbody>\n",
       "    <tr>\n",
       "      <th>0</th>\n",
       "      <td>Avengers: Age of Ultron</td>\n",
       "      <td>BV</td>\n",
       "      <td>459000000.0</td>\n",
       "      <td>946400000.0</td>\n",
       "      <td>1.405400e+09</td>\n",
       "      <td>89.356304</td>\n",
       "      <td>2015</td>\n",
       "      <td>tt2395427</td>\n",
       "      <td>Avengers: Age of Ultron</td>\n",
       "      <td>141.0</td>\n",
       "      <td>...</td>\n",
       "      <td>1.403014e+09</td>\n",
       "      <td>14169</td>\n",
       "      <td>[28, 12, 878]</td>\n",
       "      <td>99861</td>\n",
       "      <td>en</td>\n",
       "      <td>Avengers: Age of Ultron</td>\n",
       "      <td>44.383</td>\n",
       "      <td>2015-05-01</td>\n",
       "      <td>7.3</td>\n",
       "      <td>13457</td>\n",
       "    </tr>\n",
       "    <tr>\n",
       "      <th>1</th>\n",
       "      <td>Black Panther</td>\n",
       "      <td>BV</td>\n",
       "      <td>700100000.0</td>\n",
       "      <td>646900000.0</td>\n",
       "      <td>1.347000e+09</td>\n",
       "      <td>119.533218</td>\n",
       "      <td>2018</td>\n",
       "      <td>tt1825683</td>\n",
       "      <td>Black Panther</td>\n",
       "      <td>134.0</td>\n",
       "      <td>...</td>\n",
       "      <td>1.348258e+09</td>\n",
       "      <td>3444</td>\n",
       "      <td>[28, 16]</td>\n",
       "      <td>86841</td>\n",
       "      <td>en</td>\n",
       "      <td>Black Panther</td>\n",
       "      <td>2.058</td>\n",
       "      <td>2011-01-18</td>\n",
       "      <td>5.1</td>\n",
       "      <td>11</td>\n",
       "    </tr>\n",
       "    <tr>\n",
       "      <th>2</th>\n",
       "      <td>Black Panther</td>\n",
       "      <td>BV</td>\n",
       "      <td>700100000.0</td>\n",
       "      <td>646900000.0</td>\n",
       "      <td>1.347000e+09</td>\n",
       "      <td>119.533218</td>\n",
       "      <td>2018</td>\n",
       "      <td>tt1825683</td>\n",
       "      <td>Black Panther</td>\n",
       "      <td>134.0</td>\n",
       "      <td>...</td>\n",
       "      <td>1.348258e+09</td>\n",
       "      <td>23817</td>\n",
       "      <td>[28, 12, 14, 878]</td>\n",
       "      <td>284054</td>\n",
       "      <td>en</td>\n",
       "      <td>Black Panther</td>\n",
       "      <td>44.140</td>\n",
       "      <td>2018-02-16</td>\n",
       "      <td>7.4</td>\n",
       "      <td>12365</td>\n",
       "    </tr>\n",
       "    <tr>\n",
       "      <th>3</th>\n",
       "      <td>Jurassic World: Fallen Kingdom</td>\n",
       "      <td>Uni.</td>\n",
       "      <td>417700000.0</td>\n",
       "      <td>891800000.0</td>\n",
       "      <td>1.309500e+09</td>\n",
       "      <td>145.205948</td>\n",
       "      <td>2018</td>\n",
       "      <td>tt4881806</td>\n",
       "      <td>Jurassic World: Fallen Kingdom</td>\n",
       "      <td>128.0</td>\n",
       "      <td>...</td>\n",
       "      <td>1.305773e+09</td>\n",
       "      <td>23829</td>\n",
       "      <td>[28, 12, 878]</td>\n",
       "      <td>351286</td>\n",
       "      <td>en</td>\n",
       "      <td>Jurassic World: Fallen Kingdom</td>\n",
       "      <td>34.958</td>\n",
       "      <td>2018-06-22</td>\n",
       "      <td>6.5</td>\n",
       "      <td>5995</td>\n",
       "    </tr>\n",
       "    <tr>\n",
       "      <th>4</th>\n",
       "      <td>Frozen</td>\n",
       "      <td>BV</td>\n",
       "      <td>400700000.0</td>\n",
       "      <td>875700000.0</td>\n",
       "      <td>1.276400e+09</td>\n",
       "      <td>212.956024</td>\n",
       "      <td>2013</td>\n",
       "      <td>tt2294629</td>\n",
       "      <td>Frozen</td>\n",
       "      <td>102.0</td>\n",
       "      <td>...</td>\n",
       "      <td>1.272470e+09</td>\n",
       "      <td>148</td>\n",
       "      <td>[53]</td>\n",
       "      <td>44363</td>\n",
       "      <td>en</td>\n",
       "      <td>Frozen</td>\n",
       "      <td>9.678</td>\n",
       "      <td>2010-02-05</td>\n",
       "      <td>5.8</td>\n",
       "      <td>987</td>\n",
       "    </tr>\n",
       "  </tbody>\n",
       "</table>\n",
       "<p>5 rows × 25 columns</p>\n",
       "</div>"
      ],
      "text/plain": [
       "                            title studio  domestic_gross_x  foreign_gross  \\\n",
       "0         Avengers: Age of Ultron     BV       459000000.0    946400000.0   \n",
       "1                   Black Panther     BV       700100000.0    646900000.0   \n",
       "2                   Black Panther     BV       700100000.0    646900000.0   \n",
       "3  Jurassic World: Fallen Kingdom   Uni.       417700000.0    891800000.0   \n",
       "4                          Frozen     BV       400700000.0    875700000.0   \n",
       "\n",
       "    total_gross         roi  year     tconst                original_title_x  \\\n",
       "0  1.405400e+09   89.356304  2015  tt2395427         Avengers: Age of Ultron   \n",
       "1  1.347000e+09  119.533218  2018  tt1825683                   Black Panther   \n",
       "2  1.347000e+09  119.533218  2018  tt1825683                   Black Panther   \n",
       "3  1.309500e+09  145.205948  2018  tt4881806  Jurassic World: Fallen Kingdom   \n",
       "4  1.276400e+09  212.956024  2013  tt2294629                          Frozen   \n",
       "\n",
       "   runtime_minutes  ... worldwide_gross  Unnamed: 0          genre_ids  \\\n",
       "0            141.0  ...    1.403014e+09       14169      [28, 12, 878]   \n",
       "1            134.0  ...    1.348258e+09        3444           [28, 16]   \n",
       "2            134.0  ...    1.348258e+09       23817  [28, 12, 14, 878]   \n",
       "3            128.0  ...    1.305773e+09       23829      [28, 12, 878]   \n",
       "4            102.0  ...    1.272470e+09         148               [53]   \n",
       "\n",
       "     id_y original_language                original_title_y  popularity  \\\n",
       "0   99861                en         Avengers: Age of Ultron      44.383   \n",
       "1   86841                en                   Black Panther       2.058   \n",
       "2  284054                en                   Black Panther      44.140   \n",
       "3  351286                en  Jurassic World: Fallen Kingdom      34.958   \n",
       "4   44363                en                          Frozen       9.678   \n",
       "\n",
       "  release_date_y  vote_average vote_count  \n",
       "0     2015-05-01           7.3      13457  \n",
       "1     2011-01-18           5.1         11  \n",
       "2     2018-02-16           7.4      12365  \n",
       "3     2018-06-22           6.5       5995  \n",
       "4     2010-02-05           5.8        987  \n",
       "\n",
       "[5 rows x 25 columns]"
      ]
     },
     "execution_count": 120,
     "metadata": {},
     "output_type": "execute_result"
    }
   ],
   "source": [
    "df1.head()"
   ]
  },
  {
   "cell_type": "markdown",
   "metadata": {},
   "source": [
    "Creating Plot that will show the ROI against the rating that was received through IMDB."
   ]
  },
  {
   "cell_type": "code",
   "execution_count": 121,
   "metadata": {},
   "outputs": [
    {
     "data": {
      "image/png": "[encoded data removed]",
      "text/plain": [
       "<Figure size 1080x720 with 1 Axes>"
      ]
     },
     "metadata": {
      "needs_background": "light"
     },
     "output_type": "display_data"
    }
   ],
   "source": [
    "fig, ax = plt.subplots(figsize=(15,10))\n",
    "\n",
    "regplot = sns.regplot(x='vote_average',y='roi',data=df1)\n",
    "regplot.set_xlabel('Average IMDB Fan Rating (out of 10)', fontsize=18)\n",
    "regplot.set_ylabel('Return on Investment (%)', fontsize=20)\n",
    "regplot.set_title('Avg Fan Rating vs. ROI', fontsize=25)\n",
    "plt.xticks([1,2,3,4,5,6,7,8,9,10],fontsize=15)\n",
    "plt.yticks(fontsize=15);"
   ]
  }
 ],
 "metadata": {
  "kernelspec": {
   "display_name": "Python 3",
   "language": "python",
   "name": "python3"
  },
  "language_info": {
   "codemirror_mode": {
    "name": "ipython",
    "version": 3
   },
   "file_extension": ".py",
   "mimetype": "text/x-python",
   "name": "python",
   "nbconvert_exporter": "python",
   "pygments_lexer": "ipython3",
   "version": "3.8.5"
  }
 },
 "nbformat": 4,
 "nbformat_minor": 2
}
